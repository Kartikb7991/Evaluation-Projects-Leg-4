{
 "cells": [
  {
   "cell_type": "code",
   "execution_count": 386,
   "metadata": {},
   "outputs": [],
   "source": [
    "import pandas as pd\n",
    "import numpy as np\n",
    "import seaborn as sns\n",
    "import matplotlib.pyplot as plt\n",
    "import datetime as dt"
   ]
  },
  {
   "cell_type": "code",
   "execution_count": 387,
   "metadata": {},
   "outputs": [],
   "source": [
    "df = pd.read_excel(r'C:\\Users\\karti\\OneDrive\\Desktop\\Analytics work/Absenteeism.xlsx')"
   ]
  },
  {
   "cell_type": "code",
   "execution_count": 388,
   "metadata": {},
   "outputs": [
    {
     "data": {
      "text/html": [
       "<div>\n",
       "<style scoped>\n",
       "    .dataframe tbody tr th:only-of-type {\n",
       "        vertical-align: middle;\n",
       "    }\n",
       "\n",
       "    .dataframe tbody tr th {\n",
       "        vertical-align: top;\n",
       "    }\n",
       "\n",
       "    .dataframe thead th {\n",
       "        text-align: right;\n",
       "    }\n",
       "</style>\n",
       "<table border=\"1\" class=\"dataframe\">\n",
       "  <thead>\n",
       "    <tr style=\"text-align: right;\">\n",
       "      <th></th>\n",
       "      <th>ID</th>\n",
       "      <th>Reason for absence</th>\n",
       "      <th>Month of absence</th>\n",
       "      <th>Day of the week</th>\n",
       "      <th>Seasons</th>\n",
       "      <th>Transportation expense</th>\n",
       "      <th>Distance from Residence to Work</th>\n",
       "      <th>Service time</th>\n",
       "      <th>Age</th>\n",
       "      <th>Work load Average/day</th>\n",
       "      <th>...</th>\n",
       "      <th>Disciplinary failure</th>\n",
       "      <th>Education</th>\n",
       "      <th>Son</th>\n",
       "      <th>Social drinker</th>\n",
       "      <th>Social smoker</th>\n",
       "      <th>Pet</th>\n",
       "      <th>Weight</th>\n",
       "      <th>Height</th>\n",
       "      <th>Body mass index</th>\n",
       "      <th>Absenteeism time in hours</th>\n",
       "    </tr>\n",
       "  </thead>\n",
       "  <tbody>\n",
       "    <tr>\n",
       "      <th>0</th>\n",
       "      <td>11</td>\n",
       "      <td>26</td>\n",
       "      <td>7</td>\n",
       "      <td>3</td>\n",
       "      <td>1</td>\n",
       "      <td>289</td>\n",
       "      <td>36</td>\n",
       "      <td>13</td>\n",
       "      <td>33</td>\n",
       "      <td>239554</td>\n",
       "      <td>...</td>\n",
       "      <td>0</td>\n",
       "      <td>1</td>\n",
       "      <td>2</td>\n",
       "      <td>1</td>\n",
       "      <td>0</td>\n",
       "      <td>1</td>\n",
       "      <td>90</td>\n",
       "      <td>172</td>\n",
       "      <td>30</td>\n",
       "      <td>4</td>\n",
       "    </tr>\n",
       "    <tr>\n",
       "      <th>1</th>\n",
       "      <td>36</td>\n",
       "      <td>0</td>\n",
       "      <td>7</td>\n",
       "      <td>3</td>\n",
       "      <td>1</td>\n",
       "      <td>118</td>\n",
       "      <td>13</td>\n",
       "      <td>18</td>\n",
       "      <td>50</td>\n",
       "      <td>239554</td>\n",
       "      <td>...</td>\n",
       "      <td>1</td>\n",
       "      <td>1</td>\n",
       "      <td>1</td>\n",
       "      <td>1</td>\n",
       "      <td>0</td>\n",
       "      <td>0</td>\n",
       "      <td>98</td>\n",
       "      <td>178</td>\n",
       "      <td>31</td>\n",
       "      <td>0</td>\n",
       "    </tr>\n",
       "    <tr>\n",
       "      <th>2</th>\n",
       "      <td>3</td>\n",
       "      <td>23</td>\n",
       "      <td>7</td>\n",
       "      <td>4</td>\n",
       "      <td>1</td>\n",
       "      <td>179</td>\n",
       "      <td>51</td>\n",
       "      <td>18</td>\n",
       "      <td>38</td>\n",
       "      <td>239554</td>\n",
       "      <td>...</td>\n",
       "      <td>0</td>\n",
       "      <td>1</td>\n",
       "      <td>0</td>\n",
       "      <td>1</td>\n",
       "      <td>0</td>\n",
       "      <td>0</td>\n",
       "      <td>89</td>\n",
       "      <td>170</td>\n",
       "      <td>31</td>\n",
       "      <td>2</td>\n",
       "    </tr>\n",
       "    <tr>\n",
       "      <th>3</th>\n",
       "      <td>7</td>\n",
       "      <td>7</td>\n",
       "      <td>7</td>\n",
       "      <td>5</td>\n",
       "      <td>1</td>\n",
       "      <td>279</td>\n",
       "      <td>5</td>\n",
       "      <td>14</td>\n",
       "      <td>39</td>\n",
       "      <td>239554</td>\n",
       "      <td>...</td>\n",
       "      <td>0</td>\n",
       "      <td>1</td>\n",
       "      <td>2</td>\n",
       "      <td>1</td>\n",
       "      <td>1</td>\n",
       "      <td>0</td>\n",
       "      <td>68</td>\n",
       "      <td>168</td>\n",
       "      <td>24</td>\n",
       "      <td>4</td>\n",
       "    </tr>\n",
       "    <tr>\n",
       "      <th>4</th>\n",
       "      <td>11</td>\n",
       "      <td>23</td>\n",
       "      <td>7</td>\n",
       "      <td>5</td>\n",
       "      <td>1</td>\n",
       "      <td>289</td>\n",
       "      <td>36</td>\n",
       "      <td>13</td>\n",
       "      <td>33</td>\n",
       "      <td>239554</td>\n",
       "      <td>...</td>\n",
       "      <td>0</td>\n",
       "      <td>1</td>\n",
       "      <td>2</td>\n",
       "      <td>1</td>\n",
       "      <td>0</td>\n",
       "      <td>1</td>\n",
       "      <td>90</td>\n",
       "      <td>172</td>\n",
       "      <td>30</td>\n",
       "      <td>2</td>\n",
       "    </tr>\n",
       "    <tr>\n",
       "      <th>...</th>\n",
       "      <td>...</td>\n",
       "      <td>...</td>\n",
       "      <td>...</td>\n",
       "      <td>...</td>\n",
       "      <td>...</td>\n",
       "      <td>...</td>\n",
       "      <td>...</td>\n",
       "      <td>...</td>\n",
       "      <td>...</td>\n",
       "      <td>...</td>\n",
       "      <td>...</td>\n",
       "      <td>...</td>\n",
       "      <td>...</td>\n",
       "      <td>...</td>\n",
       "      <td>...</td>\n",
       "      <td>...</td>\n",
       "      <td>...</td>\n",
       "      <td>...</td>\n",
       "      <td>...</td>\n",
       "      <td>...</td>\n",
       "      <td>...</td>\n",
       "    </tr>\n",
       "    <tr>\n",
       "      <th>735</th>\n",
       "      <td>11</td>\n",
       "      <td>14</td>\n",
       "      <td>7</td>\n",
       "      <td>3</td>\n",
       "      <td>1</td>\n",
       "      <td>289</td>\n",
       "      <td>36</td>\n",
       "      <td>13</td>\n",
       "      <td>33</td>\n",
       "      <td>264604</td>\n",
       "      <td>...</td>\n",
       "      <td>0</td>\n",
       "      <td>1</td>\n",
       "      <td>2</td>\n",
       "      <td>1</td>\n",
       "      <td>0</td>\n",
       "      <td>1</td>\n",
       "      <td>90</td>\n",
       "      <td>172</td>\n",
       "      <td>30</td>\n",
       "      <td>8</td>\n",
       "    </tr>\n",
       "    <tr>\n",
       "      <th>736</th>\n",
       "      <td>1</td>\n",
       "      <td>11</td>\n",
       "      <td>7</td>\n",
       "      <td>3</td>\n",
       "      <td>1</td>\n",
       "      <td>235</td>\n",
       "      <td>11</td>\n",
       "      <td>14</td>\n",
       "      <td>37</td>\n",
       "      <td>264604</td>\n",
       "      <td>...</td>\n",
       "      <td>0</td>\n",
       "      <td>3</td>\n",
       "      <td>1</td>\n",
       "      <td>0</td>\n",
       "      <td>0</td>\n",
       "      <td>1</td>\n",
       "      <td>88</td>\n",
       "      <td>172</td>\n",
       "      <td>29</td>\n",
       "      <td>4</td>\n",
       "    </tr>\n",
       "    <tr>\n",
       "      <th>737</th>\n",
       "      <td>4</td>\n",
       "      <td>0</td>\n",
       "      <td>0</td>\n",
       "      <td>3</td>\n",
       "      <td>1</td>\n",
       "      <td>118</td>\n",
       "      <td>14</td>\n",
       "      <td>13</td>\n",
       "      <td>40</td>\n",
       "      <td>271219</td>\n",
       "      <td>...</td>\n",
       "      <td>0</td>\n",
       "      <td>1</td>\n",
       "      <td>1</td>\n",
       "      <td>1</td>\n",
       "      <td>0</td>\n",
       "      <td>8</td>\n",
       "      <td>98</td>\n",
       "      <td>170</td>\n",
       "      <td>34</td>\n",
       "      <td>0</td>\n",
       "    </tr>\n",
       "    <tr>\n",
       "      <th>738</th>\n",
       "      <td>8</td>\n",
       "      <td>0</td>\n",
       "      <td>0</td>\n",
       "      <td>4</td>\n",
       "      <td>2</td>\n",
       "      <td>231</td>\n",
       "      <td>35</td>\n",
       "      <td>14</td>\n",
       "      <td>39</td>\n",
       "      <td>271219</td>\n",
       "      <td>...</td>\n",
       "      <td>0</td>\n",
       "      <td>1</td>\n",
       "      <td>2</td>\n",
       "      <td>1</td>\n",
       "      <td>0</td>\n",
       "      <td>2</td>\n",
       "      <td>100</td>\n",
       "      <td>170</td>\n",
       "      <td>35</td>\n",
       "      <td>0</td>\n",
       "    </tr>\n",
       "    <tr>\n",
       "      <th>739</th>\n",
       "      <td>35</td>\n",
       "      <td>0</td>\n",
       "      <td>0</td>\n",
       "      <td>6</td>\n",
       "      <td>3</td>\n",
       "      <td>179</td>\n",
       "      <td>45</td>\n",
       "      <td>14</td>\n",
       "      <td>53</td>\n",
       "      <td>271219</td>\n",
       "      <td>...</td>\n",
       "      <td>0</td>\n",
       "      <td>1</td>\n",
       "      <td>1</td>\n",
       "      <td>0</td>\n",
       "      <td>0</td>\n",
       "      <td>1</td>\n",
       "      <td>77</td>\n",
       "      <td>175</td>\n",
       "      <td>25</td>\n",
       "      <td>0</td>\n",
       "    </tr>\n",
       "  </tbody>\n",
       "</table>\n",
       "<p>740 rows × 21 columns</p>\n",
       "</div>"
      ],
      "text/plain": [
       "     ID  Reason for absence  Month of absence  Day of the week  Seasons  \\\n",
       "0    11                  26                 7                3        1   \n",
       "1    36                   0                 7                3        1   \n",
       "2     3                  23                 7                4        1   \n",
       "3     7                   7                 7                5        1   \n",
       "4    11                  23                 7                5        1   \n",
       "..   ..                 ...               ...              ...      ...   \n",
       "735  11                  14                 7                3        1   \n",
       "736   1                  11                 7                3        1   \n",
       "737   4                   0                 0                3        1   \n",
       "738   8                   0                 0                4        2   \n",
       "739  35                   0                 0                6        3   \n",
       "\n",
       "     Transportation expense  Distance from Residence to Work  Service time  \\\n",
       "0                       289                               36            13   \n",
       "1                       118                               13            18   \n",
       "2                       179                               51            18   \n",
       "3                       279                                5            14   \n",
       "4                       289                               36            13   \n",
       "..                      ...                              ...           ...   \n",
       "735                     289                               36            13   \n",
       "736                     235                               11            14   \n",
       "737                     118                               14            13   \n",
       "738                     231                               35            14   \n",
       "739                     179                               45            14   \n",
       "\n",
       "     Age  Work load Average/day   ...  Disciplinary failure  Education  Son  \\\n",
       "0     33                  239554  ...                     0          1    2   \n",
       "1     50                  239554  ...                     1          1    1   \n",
       "2     38                  239554  ...                     0          1    0   \n",
       "3     39                  239554  ...                     0          1    2   \n",
       "4     33                  239554  ...                     0          1    2   \n",
       "..   ...                     ...  ...                   ...        ...  ...   \n",
       "735   33                  264604  ...                     0          1    2   \n",
       "736   37                  264604  ...                     0          3    1   \n",
       "737   40                  271219  ...                     0          1    1   \n",
       "738   39                  271219  ...                     0          1    2   \n",
       "739   53                  271219  ...                     0          1    1   \n",
       "\n",
       "     Social drinker  Social smoker  Pet  Weight  Height  Body mass index  \\\n",
       "0                 1              0    1      90     172               30   \n",
       "1                 1              0    0      98     178               31   \n",
       "2                 1              0    0      89     170               31   \n",
       "3                 1              1    0      68     168               24   \n",
       "4                 1              0    1      90     172               30   \n",
       "..              ...            ...  ...     ...     ...              ...   \n",
       "735               1              0    1      90     172               30   \n",
       "736               0              0    1      88     172               29   \n",
       "737               1              0    8      98     170               34   \n",
       "738               1              0    2     100     170               35   \n",
       "739               0              0    1      77     175               25   \n",
       "\n",
       "     Absenteeism time in hours  \n",
       "0                            4  \n",
       "1                            0  \n",
       "2                            2  \n",
       "3                            4  \n",
       "4                            2  \n",
       "..                         ...  \n",
       "735                          8  \n",
       "736                          4  \n",
       "737                          0  \n",
       "738                          0  \n",
       "739                          0  \n",
       "\n",
       "[740 rows x 21 columns]"
      ]
     },
     "execution_count": 388,
     "metadata": {},
     "output_type": "execute_result"
    }
   ],
   "source": [
    "df"
   ]
  },
  {
   "cell_type": "code",
   "execution_count": 389,
   "metadata": {},
   "outputs": [
    {
     "name": "stdout",
     "output_type": "stream",
     "text": [
      "<class 'pandas.core.frame.DataFrame'>\n",
      "RangeIndex: 740 entries, 0 to 739\n",
      "Data columns (total 21 columns):\n",
      " #   Column                           Non-Null Count  Dtype\n",
      "---  ------                           --------------  -----\n",
      " 0   ID                               740 non-null    int64\n",
      " 1   Reason for absence               740 non-null    int64\n",
      " 2   Month of absence                 740 non-null    int64\n",
      " 3   Day of the week                  740 non-null    int64\n",
      " 4   Seasons                          740 non-null    int64\n",
      " 5   Transportation expense           740 non-null    int64\n",
      " 6   Distance from Residence to Work  740 non-null    int64\n",
      " 7   Service time                     740 non-null    int64\n",
      " 8   Age                              740 non-null    int64\n",
      " 9   Work load Average/day            740 non-null    int64\n",
      " 10  Hit target                       740 non-null    int64\n",
      " 11  Disciplinary failure             740 non-null    int64\n",
      " 12  Education                        740 non-null    int64\n",
      " 13  Son                              740 non-null    int64\n",
      " 14  Social drinker                   740 non-null    int64\n",
      " 15  Social smoker                    740 non-null    int64\n",
      " 16  Pet                              740 non-null    int64\n",
      " 17  Weight                           740 non-null    int64\n",
      " 18  Height                           740 non-null    int64\n",
      " 19  Body mass index                  740 non-null    int64\n",
      " 20  Absenteeism time in hours        740 non-null    int64\n",
      "dtypes: int64(21)\n",
      "memory usage: 121.5 KB\n"
     ]
    }
   ],
   "source": [
    "df.info()"
   ]
  },
  {
   "cell_type": "code",
   "execution_count": 390,
   "metadata": {},
   "outputs": [
    {
     "data": {
      "text/plain": [
       "ID                                 0\n",
       "Reason for absence                 0\n",
       "Month of absence                   0\n",
       "Day of the week                    0\n",
       "Seasons                            0\n",
       "Transportation expense             0\n",
       "Distance from Residence to Work    0\n",
       "Service time                       0\n",
       "Age                                0\n",
       "Work load Average/day              0\n",
       "Hit target                         0\n",
       "Disciplinary failure               0\n",
       "Education                          0\n",
       "Son                                0\n",
       "Social drinker                     0\n",
       "Social smoker                      0\n",
       "Pet                                0\n",
       "Weight                             0\n",
       "Height                             0\n",
       "Body mass index                    0\n",
       "Absenteeism time in hours          0\n",
       "dtype: int64"
      ]
     },
     "execution_count": 390,
     "metadata": {},
     "output_type": "execute_result"
    }
   ],
   "source": [
    "df.isnull().sum()"
   ]
  },
  {
   "cell_type": "code",
   "execution_count": 391,
   "metadata": {},
   "outputs": [
    {
     "data": {
      "text/plain": [
       "<matplotlib.axes._subplots.AxesSubplot at 0x24bf1c53e48>"
      ]
     },
     "execution_count": 391,
     "metadata": {},
     "output_type": "execute_result"
    },
    {
     "data": {
      "image/png": "[encoded data removed]",
      "text/plain": [
       "<Figure size 432x288 with 1 Axes>"
      ]
     },
     "metadata": {
      "needs_background": "light"
     },
     "output_type": "display_data"
    }
   ],
   "source": [
    "sns.distplot(df['Reason for absence'])"
   ]
  },
  {
   "cell_type": "code",
   "execution_count": 392,
   "metadata": {},
   "outputs": [
    {
     "data": {
      "text/plain": [
       "Index(['ID', 'Reason for absence', 'Month of absence', 'Day of the week',\n",
       "       'Seasons', 'Transportation expense', 'Distance from Residence to Work',\n",
       "       'Service time', 'Age', 'Work load Average/day ', 'Hit target',\n",
       "       'Disciplinary failure', 'Education', 'Son', 'Social drinker',\n",
       "       'Social smoker', 'Pet', 'Weight', 'Height', 'Body mass index',\n",
       "       'Absenteeism time in hours'],\n",
       "      dtype='object')"
      ]
     },
     "execution_count": 392,
     "metadata": {},
     "output_type": "execute_result"
    }
   ],
   "source": [
    "df.columns"
   ]
  },
  {
   "cell_type": "code",
   "execution_count": 393,
   "metadata": {},
   "outputs": [
    {
     "data": {
      "text/plain": [
       "ID                                 44\n",
       "Reason for absence                 44\n",
       "Month of absence                   44\n",
       "Day of the week                    44\n",
       "Seasons                            44\n",
       "Transportation expense             44\n",
       "Distance from Residence to Work    44\n",
       "Service time                       44\n",
       "Age                                44\n",
       "Work load Average/day              44\n",
       "Hit target                         44\n",
       "Disciplinary failure               44\n",
       "Education                          44\n",
       "Son                                44\n",
       "Social drinker                     44\n",
       "Social smoker                      44\n",
       "Pet                                44\n",
       "Weight                             44\n",
       "Height                             44\n",
       "Body mass index                    44\n",
       "Absenteeism time in hours          44\n",
       "dtype: int64"
      ]
     },
     "execution_count": 393,
     "metadata": {},
     "output_type": "execute_result"
    }
   ],
   "source": [
    "df[df['Absenteeism time in hours']==0].count()"
   ]
  },
  {
   "cell_type": "code",
   "execution_count": 394,
   "metadata": {},
   "outputs": [],
   "source": [
    "Rfa = df.groupby('Reason for absence')"
   ]
  },
  {
   "cell_type": "code",
   "execution_count": 395,
   "metadata": {
    "scrolled": true
   },
   "outputs": [
    {
     "data": {
      "text/plain": [
       "Reason for absence\n",
       "0       0\n",
       "1      64\n",
       "2      24\n",
       "3       8\n",
       "4       8\n",
       "5       8\n",
       "6     120\n",
       "7      40\n",
       "8       8\n",
       "9     112\n",
       "10     48\n",
       "11    120\n",
       "12    112\n",
       "13    120\n",
       "14     40\n",
       "15      8\n",
       "16      3\n",
       "17      8\n",
       "18     80\n",
       "19    104\n",
       "21      8\n",
       "22     16\n",
       "23     16\n",
       "24      8\n",
       "25      8\n",
       "26     16\n",
       "27      3\n",
       "28     24\n",
       "Name: Absenteeism time in hours, dtype: int64"
      ]
     },
     "execution_count": 395,
     "metadata": {},
     "output_type": "execute_result"
    }
   ],
   "source": [
    "Rfa['Absenteeism time in hours'].max()"
   ]
  },
  {
   "cell_type": "code",
   "execution_count": 396,
   "metadata": {},
   "outputs": [],
   "source": [
    "df['season_name'] = df.Seasons.map({1:'Summer', 2:'Autumn', 3:'Winter', 4:'Spring'})"
   ]
  },
  {
   "cell_type": "code",
   "execution_count": 397,
   "metadata": {},
   "outputs": [
    {
     "data": {
      "text/plain": [
       "Spring    195\n",
       "Autumn    192\n",
       "Winter    183\n",
       "Summer    170\n",
       "Name: season_name, dtype: int64"
      ]
     },
     "execution_count": 397,
     "metadata": {},
     "output_type": "execute_result"
    }
   ],
   "source": [
    "df['season_name'].value_counts()"
   ]
  },
  {
   "cell_type": "code",
   "execution_count": 398,
   "metadata": {},
   "outputs": [],
   "source": [
    "SG= df.groupby('season_name')"
   ]
  },
  {
   "cell_type": "code",
   "execution_count": 399,
   "metadata": {},
   "outputs": [
    {
     "data": {
      "text/plain": [
       "season_name\n",
       "Autumn    112\n",
       "Spring    120\n",
       "Summer    120\n",
       "Winter    120\n",
       "Name: Absenteeism time in hours, dtype: int64"
      ]
     },
     "execution_count": 399,
     "metadata": {},
     "output_type": "execute_result"
    }
   ],
   "source": [
    "SG['Absenteeism time in hours'].max()"
   ]
  },
  {
   "cell_type": "code",
   "execution_count": 400,
   "metadata": {},
   "outputs": [
    {
     "data": {
      "text/plain": [
       "array([  4,   0,   2,   8,  40,   1,   7,   3,  32,   5,  16,  24,  64,\n",
       "        56,  80, 120, 112, 104,  48], dtype=int64)"
      ]
     },
     "execution_count": 400,
     "metadata": {},
     "output_type": "execute_result"
    }
   ],
   "source": [
    "df['Absenteeism time in hours'].unique()"
   ]
  },
  {
   "cell_type": "code",
   "execution_count": 401,
   "metadata": {},
   "outputs": [],
   "source": [
    "df['Age'] =df['Age'].astype('int64')"
   ]
  },
  {
   "cell_type": "code",
   "execution_count": 402,
   "metadata": {},
   "outputs": [],
   "source": [
    "df['followUp_req'] = np.where(df['Reason for absence'] <= 21, 1, 0)"
   ]
  },
  {
   "cell_type": "code",
   "execution_count": 403,
   "metadata": {},
   "outputs": [
    {
     "data": {
      "text/html": [
       "<div>\n",
       "<style scoped>\n",
       "    .dataframe tbody tr th:only-of-type {\n",
       "        vertical-align: middle;\n",
       "    }\n",
       "\n",
       "    .dataframe tbody tr th {\n",
       "        vertical-align: top;\n",
       "    }\n",
       "\n",
       "    .dataframe thead th {\n",
       "        text-align: right;\n",
       "    }\n",
       "</style>\n",
       "<table border=\"1\" class=\"dataframe\">\n",
       "  <thead>\n",
       "    <tr style=\"text-align: right;\">\n",
       "      <th></th>\n",
       "      <th>ID</th>\n",
       "      <th>Reason for absence</th>\n",
       "      <th>Month of absence</th>\n",
       "      <th>Day of the week</th>\n",
       "      <th>Seasons</th>\n",
       "      <th>Transportation expense</th>\n",
       "      <th>Distance from Residence to Work</th>\n",
       "      <th>Service time</th>\n",
       "      <th>Age</th>\n",
       "      <th>Work load Average/day</th>\n",
       "      <th>...</th>\n",
       "      <th>Son</th>\n",
       "      <th>Social drinker</th>\n",
       "      <th>Social smoker</th>\n",
       "      <th>Pet</th>\n",
       "      <th>Weight</th>\n",
       "      <th>Height</th>\n",
       "      <th>Body mass index</th>\n",
       "      <th>Absenteeism time in hours</th>\n",
       "      <th>season_name</th>\n",
       "      <th>followUp_req</th>\n",
       "    </tr>\n",
       "  </thead>\n",
       "  <tbody>\n",
       "    <tr>\n",
       "      <th>0</th>\n",
       "      <td>11</td>\n",
       "      <td>26</td>\n",
       "      <td>7</td>\n",
       "      <td>3</td>\n",
       "      <td>1</td>\n",
       "      <td>289</td>\n",
       "      <td>36</td>\n",
       "      <td>13</td>\n",
       "      <td>33</td>\n",
       "      <td>239554</td>\n",
       "      <td>...</td>\n",
       "      <td>2</td>\n",
       "      <td>1</td>\n",
       "      <td>0</td>\n",
       "      <td>1</td>\n",
       "      <td>90</td>\n",
       "      <td>172</td>\n",
       "      <td>30</td>\n",
       "      <td>4</td>\n",
       "      <td>Summer</td>\n",
       "      <td>0</td>\n",
       "    </tr>\n",
       "    <tr>\n",
       "      <th>1</th>\n",
       "      <td>36</td>\n",
       "      <td>0</td>\n",
       "      <td>7</td>\n",
       "      <td>3</td>\n",
       "      <td>1</td>\n",
       "      <td>118</td>\n",
       "      <td>13</td>\n",
       "      <td>18</td>\n",
       "      <td>50</td>\n",
       "      <td>239554</td>\n",
       "      <td>...</td>\n",
       "      <td>1</td>\n",
       "      <td>1</td>\n",
       "      <td>0</td>\n",
       "      <td>0</td>\n",
       "      <td>98</td>\n",
       "      <td>178</td>\n",
       "      <td>31</td>\n",
       "      <td>0</td>\n",
       "      <td>Summer</td>\n",
       "      <td>1</td>\n",
       "    </tr>\n",
       "    <tr>\n",
       "      <th>2</th>\n",
       "      <td>3</td>\n",
       "      <td>23</td>\n",
       "      <td>7</td>\n",
       "      <td>4</td>\n",
       "      <td>1</td>\n",
       "      <td>179</td>\n",
       "      <td>51</td>\n",
       "      <td>18</td>\n",
       "      <td>38</td>\n",
       "      <td>239554</td>\n",
       "      <td>...</td>\n",
       "      <td>0</td>\n",
       "      <td>1</td>\n",
       "      <td>0</td>\n",
       "      <td>0</td>\n",
       "      <td>89</td>\n",
       "      <td>170</td>\n",
       "      <td>31</td>\n",
       "      <td>2</td>\n",
       "      <td>Summer</td>\n",
       "      <td>0</td>\n",
       "    </tr>\n",
       "    <tr>\n",
       "      <th>3</th>\n",
       "      <td>7</td>\n",
       "      <td>7</td>\n",
       "      <td>7</td>\n",
       "      <td>5</td>\n",
       "      <td>1</td>\n",
       "      <td>279</td>\n",
       "      <td>5</td>\n",
       "      <td>14</td>\n",
       "      <td>39</td>\n",
       "      <td>239554</td>\n",
       "      <td>...</td>\n",
       "      <td>2</td>\n",
       "      <td>1</td>\n",
       "      <td>1</td>\n",
       "      <td>0</td>\n",
       "      <td>68</td>\n",
       "      <td>168</td>\n",
       "      <td>24</td>\n",
       "      <td>4</td>\n",
       "      <td>Summer</td>\n",
       "      <td>1</td>\n",
       "    </tr>\n",
       "    <tr>\n",
       "      <th>4</th>\n",
       "      <td>11</td>\n",
       "      <td>23</td>\n",
       "      <td>7</td>\n",
       "      <td>5</td>\n",
       "      <td>1</td>\n",
       "      <td>289</td>\n",
       "      <td>36</td>\n",
       "      <td>13</td>\n",
       "      <td>33</td>\n",
       "      <td>239554</td>\n",
       "      <td>...</td>\n",
       "      <td>2</td>\n",
       "      <td>1</td>\n",
       "      <td>0</td>\n",
       "      <td>1</td>\n",
       "      <td>90</td>\n",
       "      <td>172</td>\n",
       "      <td>30</td>\n",
       "      <td>2</td>\n",
       "      <td>Summer</td>\n",
       "      <td>0</td>\n",
       "    </tr>\n",
       "  </tbody>\n",
       "</table>\n",
       "<p>5 rows × 23 columns</p>\n",
       "</div>"
      ],
      "text/plain": [
       "   ID  Reason for absence  Month of absence  Day of the week  Seasons  \\\n",
       "0  11                  26                 7                3        1   \n",
       "1  36                   0                 7                3        1   \n",
       "2   3                  23                 7                4        1   \n",
       "3   7                   7                 7                5        1   \n",
       "4  11                  23                 7                5        1   \n",
       "\n",
       "   Transportation expense  Distance from Residence to Work  Service time  Age  \\\n",
       "0                     289                               36            13   33   \n",
       "1                     118                               13            18   50   \n",
       "2                     179                               51            18   38   \n",
       "3                     279                                5            14   39   \n",
       "4                     289                               36            13   33   \n",
       "\n",
       "   Work load Average/day   ...  Son  Social drinker  Social smoker  Pet  \\\n",
       "0                  239554  ...    2               1              0    1   \n",
       "1                  239554  ...    1               1              0    0   \n",
       "2                  239554  ...    0               1              0    0   \n",
       "3                  239554  ...    2               1              1    0   \n",
       "4                  239554  ...    2               1              0    1   \n",
       "\n",
       "   Weight  Height  Body mass index  Absenteeism time in hours  season_name  \\\n",
       "0      90     172               30                          4       Summer   \n",
       "1      98     178               31                          0       Summer   \n",
       "2      89     170               31                          2       Summer   \n",
       "3      68     168               24                          4       Summer   \n",
       "4      90     172               30                          2       Summer   \n",
       "\n",
       "   followUp_req  \n",
       "0             0  \n",
       "1             1  \n",
       "2             0  \n",
       "3             1  \n",
       "4             0  \n",
       "\n",
       "[5 rows x 23 columns]"
      ]
     },
     "execution_count": 403,
     "metadata": {},
     "output_type": "execute_result"
    }
   ],
   "source": [
    "df.head()"
   ]
  },
  {
   "cell_type": "code",
   "execution_count": 404,
   "metadata": {},
   "outputs": [],
   "source": [
    "df['Absenteeism categories'] = np.where(df['Absenteeism time in hours'] == 0, \"Group 0\", \n",
    "                                     np.where(df['Absenteeism time in hours'] == 1, \"Group 1\",\n",
    "                                     np.where(df['Absenteeism time in hours'] == 2, \"Group 2\",\n",
    "                                     np.where(df['Absenteeism time in hours'] == 3, \"Group 3\",\n",
    "                                     np.where((df['Absenteeism time in hours'] >= 4)&(df['Absenteeism time in hours'] <= 7), \"Group 4\",\n",
    "                                     np.where(df['Absenteeism time in hours'] == 8, \"Group 5\",\n",
    "                                     np.where(df['Absenteeism time in hours'] >= 9, \"Group 6\",0))\n",
    "                                                                              )))))"
   ]
  },
  {
   "cell_type": "code",
   "execution_count": 405,
   "metadata": {},
   "outputs": [
    {
     "data": {
      "text/plain": [
       "array(['Group 4', 'Group 0', 'Group 2', 'Group 5', 'Group 6', 'Group 1',\n",
       "       'Group 3'], dtype=object)"
      ]
     },
     "execution_count": 405,
     "metadata": {},
     "output_type": "execute_result"
    }
   ],
   "source": [
    "df['Absenteeism categories'].unique()"
   ]
  },
  {
   "cell_type": "code",
   "execution_count": 406,
   "metadata": {},
   "outputs": [],
   "source": [
    "df['Reason for absence'] = df['Reason for absence'].astype('category')\n",
    "df['Month of absence'] = df['Month of absence'].astype('category')\n",
    "df['Day of the week'] = df['Day of the week'].astype('category')\n",
    "df['Seasons'] = df['Seasons'].astype('category')\n",
    "df['Disciplinary failure'] = df['Disciplinary failure'].astype('category')\n",
    "df['Education'] = df['Education'].astype('category')\n",
    "df['Social drinker'] = df['Social drinker'].astype('category')\n",
    "df['Social smoker'] = df['Social smoker'].astype('category')\n",
    "df['Pet'] = df['Pet'].astype('category')\n",
    "df['followUp_req'] = df['followUp_req'].astype('category')\n",
    "df['Absenteeism categories'] = df['Absenteeism categories'].astype('category')\n"
   ]
  },
  {
   "cell_type": "code",
   "execution_count": 407,
   "metadata": {},
   "outputs": [
    {
     "name": "stdout",
     "output_type": "stream",
     "text": [
      "<class 'pandas.core.frame.DataFrame'>\n",
      "RangeIndex: 740 entries, 0 to 739\n",
      "Data columns (total 24 columns):\n",
      " #   Column                           Non-Null Count  Dtype   \n",
      "---  ------                           --------------  -----   \n",
      " 0   ID                               740 non-null    int64   \n",
      " 1   Reason for absence               740 non-null    category\n",
      " 2   Month of absence                 740 non-null    category\n",
      " 3   Day of the week                  740 non-null    category\n",
      " 4   Seasons                          740 non-null    category\n",
      " 5   Transportation expense           740 non-null    int64   \n",
      " 6   Distance from Residence to Work  740 non-null    int64   \n",
      " 7   Service time                     740 non-null    int64   \n",
      " 8   Age                              740 non-null    int64   \n",
      " 9   Work load Average/day            740 non-null    int64   \n",
      " 10  Hit target                       740 non-null    int64   \n",
      " 11  Disciplinary failure             740 non-null    category\n",
      " 12  Education                        740 non-null    category\n",
      " 13  Son                              740 non-null    int64   \n",
      " 14  Social drinker                   740 non-null    category\n",
      " 15  Social smoker                    740 non-null    category\n",
      " 16  Pet                              740 non-null    category\n",
      " 17  Weight                           740 non-null    int64   \n",
      " 18  Height                           740 non-null    int64   \n",
      " 19  Body mass index                  740 non-null    int64   \n",
      " 20  Absenteeism time in hours        740 non-null    int64   \n",
      " 21  season_name                      740 non-null    object  \n",
      " 22  followUp_req                     740 non-null    category\n",
      " 23  Absenteeism categories           740 non-null    category\n",
      "dtypes: category(11), int64(12), object(1)\n",
      "memory usage: 86.9+ KB\n"
     ]
    }
   ],
   "source": [
    "df.info()"
   ]
  },
  {
   "cell_type": "code",
   "execution_count": 408,
   "metadata": {},
   "outputs": [
    {
     "data": {
      "text/plain": [
       "<matplotlib.axes._subplots.AxesSubplot at 0x24bf20d0208>"
      ]
     },
     "execution_count": 408,
     "metadata": {},
     "output_type": "execute_result"
    },
    {
     "data": {
      "image/png": "[encoded data removed]",
      "text/plain": [
       "<Figure size 432x288 with 1 Axes>"
      ]
     },
     "metadata": {
      "needs_background": "light"
     },
     "output_type": "display_data"
    }
   ],
   "source": [
    "sns.boxplot(df['Service time'])"
   ]
  },
  {
   "cell_type": "code",
   "execution_count": 409,
   "metadata": {},
   "outputs": [
    {
     "name": "stdout",
     "output_type": "stream",
     "text": [
      "no outliers\n"
     ]
    },
    {
     "data": {
      "image/png": "[encoded data removed]",
      "text/plain": [
       "<Figure size 432x288 with 1 Axes>"
      ]
     },
     "metadata": {
      "needs_background": "light"
     },
     "output_type": "display_data"
    }
   ],
   "source": [
    "sns.boxplot(df['Distance from Residence to Work'])\n",
    "print('no outliers')"
   ]
  },
  {
   "cell_type": "code",
   "execution_count": 410,
   "metadata": {},
   "outputs": [
    {
     "data": {
      "text/plain": [
       "<matplotlib.axes._subplots.AxesSubplot at 0x24bf1c36188>"
      ]
     },
     "execution_count": 410,
     "metadata": {},
     "output_type": "execute_result"
    },
    {
     "data": {
      "image/png": "[encoded data removed]",
      "text/plain": [
       "<Figure size 432x288 with 1 Axes>"
      ]
     },
     "metadata": {
      "needs_background": "light"
     },
     "output_type": "display_data"
    }
   ],
   "source": [
    "sns.boxplot(df['Transportation expense'])"
   ]
  },
  {
   "cell_type": "code",
   "execution_count": 411,
   "metadata": {},
   "outputs": [
    {
     "data": {
      "text/plain": [
       "<matplotlib.axes._subplots.AxesSubplot at 0x24bf220b988>"
      ]
     },
     "execution_count": 411,
     "metadata": {},
     "output_type": "execute_result"
    },
    {
     "data": {
      "image/png": "[encoded data removed]",
      "text/plain": [
       "<Figure size 432x288 with 1 Axes>"
      ]
     },
     "metadata": {
      "needs_background": "light"
     },
     "output_type": "display_data"
    }
   ],
   "source": [
    "sns.boxplot(df['Age'])"
   ]
  },
  {
   "cell_type": "code",
   "execution_count": 412,
   "metadata": {},
   "outputs": [
    {
     "data": {
      "text/plain": [
       "<matplotlib.axes._subplots.AxesSubplot at 0x24bf22005c8>"
      ]
     },
     "execution_count": 412,
     "metadata": {},
     "output_type": "execute_result"
    },
    {
     "data": {
      "image/png": "[encoded data removed]",
      "text/plain": [
       "<Figure size 432x288 with 1 Axes>"
      ]
     },
     "metadata": {
      "needs_background": "light"
     },
     "output_type": "display_data"
    }
   ],
   "source": [
    "\n",
    "sns.boxplot(df['Work load Average/day '])"
   ]
  },
  {
   "cell_type": "code",
   "execution_count": 413,
   "metadata": {},
   "outputs": [
    {
     "data": {
      "text/plain": [
       "<matplotlib.axes._subplots.AxesSubplot at 0x24bf22cdd48>"
      ]
     },
     "execution_count": 413,
     "metadata": {},
     "output_type": "execute_result"
    },
    {
     "data": {
      "image/png": "[encoded data removed]",
      "text/plain": [
       "<Figure size 432x288 with 1 Axes>"
      ]
     },
     "metadata": {
      "needs_background": "light"
     },
     "output_type": "display_data"
    }
   ],
   "source": [
    "\n",
    "sns.boxplot(df['Weight'])"
   ]
  },
  {
   "cell_type": "code",
   "execution_count": 414,
   "metadata": {},
   "outputs": [
    {
     "data": {
      "text/plain": [
       "<matplotlib.axes._subplots.AxesSubplot at 0x24bf25af188>"
      ]
     },
     "execution_count": 414,
     "metadata": {},
     "output_type": "execute_result"
    },
    {
     "data": {
      "image/png": "[encoded data removed]",
      "text/plain": [
       "<Figure size 432x288 with 1 Axes>"
      ]
     },
     "metadata": {
      "needs_background": "light"
     },
     "output_type": "display_data"
    }
   ],
   "source": [
    "\n",
    "sns.boxplot(df['Hit target'])"
   ]
  },
  {
   "cell_type": "code",
   "execution_count": 415,
   "metadata": {},
   "outputs": [
    {
     "data": {
      "text/plain": [
       "<matplotlib.axes._subplots.AxesSubplot at 0x24bf2621a08>"
      ]
     },
     "execution_count": 415,
     "metadata": {},
     "output_type": "execute_result"
    },
    {
     "data": {
      "image/png": "[encoded data removed]",
      "text/plain": [
       "<Figure size 432x288 with 1 Axes>"
      ]
     },
     "metadata": {
      "needs_background": "light"
     },
     "output_type": "display_data"
    }
   ],
   "source": [
    "sns.boxplot(df['Body mass index'])"
   ]
  },
  {
   "cell_type": "code",
   "execution_count": 416,
   "metadata": {},
   "outputs": [
    {
     "data": {
      "text/plain": [
       "<matplotlib.axes._subplots.AxesSubplot at 0x24bf266dd48>"
      ]
     },
     "execution_count": 416,
     "metadata": {},
     "output_type": "execute_result"
    },
    {
     "data": {
      "image/png": "[encoded data removed]",
      "text/plain": [
       "<Figure size 432x288 with 1 Axes>"
      ]
     },
     "metadata": {
      "needs_background": "light"
     },
     "output_type": "display_data"
    }
   ],
   "source": [
    "\n",
    "sns.boxplot(df['Height'])"
   ]
  },
  {
   "cell_type": "code",
   "execution_count": 417,
   "metadata": {},
   "outputs": [
    {
     "name": "stdout",
     "output_type": "stream",
     "text": [
      "<class 'pandas.core.frame.DataFrame'>\n",
      "RangeIndex: 740 entries, 0 to 739\n",
      "Data columns (total 24 columns):\n",
      " #   Column                           Non-Null Count  Dtype   \n",
      "---  ------                           --------------  -----   \n",
      " 0   ID                               740 non-null    int64   \n",
      " 1   Reason for absence               740 non-null    category\n",
      " 2   Month of absence                 740 non-null    category\n",
      " 3   Day of the week                  740 non-null    category\n",
      " 4   Seasons                          740 non-null    category\n",
      " 5   Transportation expense           740 non-null    int64   \n",
      " 6   Distance from Residence to Work  740 non-null    int64   \n",
      " 7   Service time                     740 non-null    int64   \n",
      " 8   Age                              740 non-null    int64   \n",
      " 9   Work load Average/day            740 non-null    int64   \n",
      " 10  Hit target                       740 non-null    int64   \n",
      " 11  Disciplinary failure             740 non-null    category\n",
      " 12  Education                        740 non-null    category\n",
      " 13  Son                              740 non-null    int64   \n",
      " 14  Social drinker                   740 non-null    category\n",
      " 15  Social smoker                    740 non-null    category\n",
      " 16  Pet                              740 non-null    category\n",
      " 17  Weight                           740 non-null    int64   \n",
      " 18  Height                           740 non-null    int64   \n",
      " 19  Body mass index                  740 non-null    int64   \n",
      " 20  Absenteeism time in hours        740 non-null    int64   \n",
      " 21  season_name                      740 non-null    object  \n",
      " 22  followUp_req                     740 non-null    category\n",
      " 23  Absenteeism categories           740 non-null    category\n",
      "dtypes: category(11), int64(12), object(1)\n",
      "memory usage: 86.9+ KB\n"
     ]
    }
   ],
   "source": [
    "df.info()"
   ]
  },
  {
   "cell_type": "code",
   "execution_count": 418,
   "metadata": {},
   "outputs": [],
   "source": [
    "catcols=['Reason for absence'],['Month of absence'],['Day of the week'],['Seasons'],['Disciplinary failure'],['Education'],['Social drinker'],['Social smoker'],['Pet'],['followUp_req'],['Absenteeism categories']"
   ]
  },
  {
   "cell_type": "code",
   "execution_count": 419,
   "metadata": {},
   "outputs": [
    {
     "data": {
      "text/html": [
       "<div>\n",
       "<style scoped>\n",
       "    .dataframe tbody tr th:only-of-type {\n",
       "        vertical-align: middle;\n",
       "    }\n",
       "\n",
       "    .dataframe tbody tr th {\n",
       "        vertical-align: top;\n",
       "    }\n",
       "\n",
       "    .dataframe thead th {\n",
       "        text-align: right;\n",
       "    }\n",
       "</style>\n",
       "<table border=\"1\" class=\"dataframe\">\n",
       "  <thead>\n",
       "    <tr style=\"text-align: right;\">\n",
       "      <th></th>\n",
       "      <th>ID</th>\n",
       "      <th>Reason for absence</th>\n",
       "      <th>Month of absence</th>\n",
       "      <th>Day of the week</th>\n",
       "      <th>Seasons</th>\n",
       "      <th>Transportation expense</th>\n",
       "      <th>Distance from Residence to Work</th>\n",
       "      <th>Service time</th>\n",
       "      <th>Age</th>\n",
       "      <th>Work load Average/day</th>\n",
       "      <th>...</th>\n",
       "      <th>Social drinker</th>\n",
       "      <th>Social smoker</th>\n",
       "      <th>Pet</th>\n",
       "      <th>Weight</th>\n",
       "      <th>Height</th>\n",
       "      <th>Body mass index</th>\n",
       "      <th>Absenteeism time in hours</th>\n",
       "      <th>season_name</th>\n",
       "      <th>followUp_req</th>\n",
       "      <th>Absenteeism categories</th>\n",
       "    </tr>\n",
       "  </thead>\n",
       "  <tbody>\n",
       "    <tr>\n",
       "      <th>0</th>\n",
       "      <td>11</td>\n",
       "      <td>26</td>\n",
       "      <td>7</td>\n",
       "      <td>3</td>\n",
       "      <td>1</td>\n",
       "      <td>289</td>\n",
       "      <td>36</td>\n",
       "      <td>13</td>\n",
       "      <td>33</td>\n",
       "      <td>239554</td>\n",
       "      <td>...</td>\n",
       "      <td>1</td>\n",
       "      <td>0</td>\n",
       "      <td>1</td>\n",
       "      <td>90</td>\n",
       "      <td>172</td>\n",
       "      <td>30</td>\n",
       "      <td>4</td>\n",
       "      <td>Summer</td>\n",
       "      <td>0</td>\n",
       "      <td>Group 4</td>\n",
       "    </tr>\n",
       "    <tr>\n",
       "      <th>1</th>\n",
       "      <td>36</td>\n",
       "      <td>0</td>\n",
       "      <td>7</td>\n",
       "      <td>3</td>\n",
       "      <td>1</td>\n",
       "      <td>118</td>\n",
       "      <td>13</td>\n",
       "      <td>18</td>\n",
       "      <td>50</td>\n",
       "      <td>239554</td>\n",
       "      <td>...</td>\n",
       "      <td>1</td>\n",
       "      <td>0</td>\n",
       "      <td>0</td>\n",
       "      <td>98</td>\n",
       "      <td>178</td>\n",
       "      <td>31</td>\n",
       "      <td>0</td>\n",
       "      <td>Summer</td>\n",
       "      <td>1</td>\n",
       "      <td>Group 0</td>\n",
       "    </tr>\n",
       "    <tr>\n",
       "      <th>2</th>\n",
       "      <td>3</td>\n",
       "      <td>23</td>\n",
       "      <td>7</td>\n",
       "      <td>4</td>\n",
       "      <td>1</td>\n",
       "      <td>179</td>\n",
       "      <td>51</td>\n",
       "      <td>18</td>\n",
       "      <td>38</td>\n",
       "      <td>239554</td>\n",
       "      <td>...</td>\n",
       "      <td>1</td>\n",
       "      <td>0</td>\n",
       "      <td>0</td>\n",
       "      <td>89</td>\n",
       "      <td>170</td>\n",
       "      <td>31</td>\n",
       "      <td>2</td>\n",
       "      <td>Summer</td>\n",
       "      <td>0</td>\n",
       "      <td>Group 2</td>\n",
       "    </tr>\n",
       "    <tr>\n",
       "      <th>3</th>\n",
       "      <td>7</td>\n",
       "      <td>7</td>\n",
       "      <td>7</td>\n",
       "      <td>5</td>\n",
       "      <td>1</td>\n",
       "      <td>279</td>\n",
       "      <td>5</td>\n",
       "      <td>14</td>\n",
       "      <td>39</td>\n",
       "      <td>239554</td>\n",
       "      <td>...</td>\n",
       "      <td>1</td>\n",
       "      <td>1</td>\n",
       "      <td>0</td>\n",
       "      <td>68</td>\n",
       "      <td>168</td>\n",
       "      <td>24</td>\n",
       "      <td>4</td>\n",
       "      <td>Summer</td>\n",
       "      <td>1</td>\n",
       "      <td>Group 4</td>\n",
       "    </tr>\n",
       "    <tr>\n",
       "      <th>4</th>\n",
       "      <td>11</td>\n",
       "      <td>23</td>\n",
       "      <td>7</td>\n",
       "      <td>5</td>\n",
       "      <td>1</td>\n",
       "      <td>289</td>\n",
       "      <td>36</td>\n",
       "      <td>13</td>\n",
       "      <td>33</td>\n",
       "      <td>239554</td>\n",
       "      <td>...</td>\n",
       "      <td>1</td>\n",
       "      <td>0</td>\n",
       "      <td>1</td>\n",
       "      <td>90</td>\n",
       "      <td>172</td>\n",
       "      <td>30</td>\n",
       "      <td>2</td>\n",
       "      <td>Summer</td>\n",
       "      <td>0</td>\n",
       "      <td>Group 2</td>\n",
       "    </tr>\n",
       "  </tbody>\n",
       "</table>\n",
       "<p>5 rows × 24 columns</p>\n",
       "</div>"
      ],
      "text/plain": [
       "   ID Reason for absence Month of absence Day of the week Seasons  \\\n",
       "0  11                 26                7               3       1   \n",
       "1  36                  0                7               3       1   \n",
       "2   3                 23                7               4       1   \n",
       "3   7                  7                7               5       1   \n",
       "4  11                 23                7               5       1   \n",
       "\n",
       "   Transportation expense  Distance from Residence to Work  Service time  Age  \\\n",
       "0                     289                               36            13   33   \n",
       "1                     118                               13            18   50   \n",
       "2                     179                               51            18   38   \n",
       "3                     279                                5            14   39   \n",
       "4                     289                               36            13   33   \n",
       "\n",
       "   Work load Average/day   ...  Social drinker Social smoker Pet  Weight  \\\n",
       "0                  239554  ...               1             0   1      90   \n",
       "1                  239554  ...               1             0   0      98   \n",
       "2                  239554  ...               1             0   0      89   \n",
       "3                  239554  ...               1             1   0      68   \n",
       "4                  239554  ...               1             0   1      90   \n",
       "\n",
       "  Height Body mass index Absenteeism time in hours  season_name  followUp_req  \\\n",
       "0    172              30                         4       Summer             0   \n",
       "1    178              31                         0       Summer             1   \n",
       "2    170              31                         2       Summer             0   \n",
       "3    168              24                         4       Summer             1   \n",
       "4    172              30                         2       Summer             0   \n",
       "\n",
       "   Absenteeism categories  \n",
       "0                 Group 4  \n",
       "1                 Group 0  \n",
       "2                 Group 2  \n",
       "3                 Group 4  \n",
       "4                 Group 2  \n",
       "\n",
       "[5 rows x 24 columns]"
      ]
     },
     "execution_count": 419,
     "metadata": {},
     "output_type": "execute_result"
    }
   ],
   "source": [
    "df.head()"
   ]
  },
  {
   "cell_type": "code",
   "execution_count": 420,
   "metadata": {},
   "outputs": [
    {
     "data": {
      "text/plain": [
       "<matplotlib.axes._subplots.AxesSubplot at 0x24bf26ff508>"
      ]
     },
     "execution_count": 420,
     "metadata": {},
     "output_type": "execute_result"
    },
    {
     "data": {
      "image/png": "[encoded data removed]",
      "text/plain": [
       "<Figure size 864x432 with 2 Axes>"
      ]
     },
     "metadata": {
      "needs_background": "light"
     },
     "output_type": "display_data"
    }
   ],
   "source": [
    "plt.figure(figsize = (12,6))\n",
    "\n",
    "plt.subplot(221)\n",
    "sns.distplot(df['Age'])\n",
    "\n",
    "plt.subplot(222)\n",
    "sns.distplot(df['Body mass index'])"
   ]
  },
  {
   "cell_type": "code",
   "execution_count": 421,
   "metadata": {},
   "outputs": [
    {
     "data": {
      "text/plain": [
       "<matplotlib.axes._subplots.AxesSubplot at 0x24bf29b3c88>"
      ]
     },
     "execution_count": 421,
     "metadata": {},
     "output_type": "execute_result"
    },
    {
     "data": {
      "image/png": "[encoded data removed]",
      "text/plain": [
       "<Figure size 864x432 with 2 Axes>"
      ]
     },
     "metadata": {
      "needs_background": "light"
     },
     "output_type": "display_data"
    }
   ],
   "source": [
    "plt.figure(figsize = (12,6))\n",
    "\n",
    "plt.subplot(221)\n",
    "sns.countplot(df['Social smoker'])\n",
    "\n",
    "plt.subplot(222)\n",
    "sns.countplot(df['Social drinker'])"
   ]
  },
  {
   "cell_type": "code",
   "execution_count": 422,
   "metadata": {},
   "outputs": [
    {
     "data": {
      "text/plain": [
       "<seaborn.axisgrid.FacetGrid at 0x24bf285ea08>"
      ]
     },
     "execution_count": 422,
     "metadata": {},
     "output_type": "execute_result"
    },
    {
     "data": {
      "image/png": "[encoded data removed]",
      "text/plain": [
       "<Figure size 360x360 with 1 Axes>"
      ]
     },
     "metadata": {
      "needs_background": "light"
     },
     "output_type": "display_data"
    }
   ],
   "source": [
    "sns.catplot(x=\"Reason for absence\", kind=\"count\", data=df)"
   ]
  },
  {
   "cell_type": "code",
   "execution_count": 423,
   "metadata": {},
   "outputs": [
    {
     "data": {
      "text/plain": [
       "<matplotlib.axes._subplots.AxesSubplot at 0x24bf28caac8>"
      ]
     },
     "execution_count": 423,
     "metadata": {},
     "output_type": "execute_result"
    },
    {
     "data": {
      "image/png": "[encoded data removed]",
      "text/plain": [
       "<Figure size 432x288 with 1 Axes>"
      ]
     },
     "metadata": {
      "needs_background": "light"
     },
     "output_type": "display_data"
    }
   ],
   "source": [
    "sns.countplot(x='Social drinker',hue='Absenteeism categories',data=df)"
   ]
  },
  {
   "cell_type": "code",
   "execution_count": 424,
   "metadata": {},
   "outputs": [
    {
     "data": {
      "text/plain": [
       "<matplotlib.axes._subplots.AxesSubplot at 0x24bf2a29908>"
      ]
     },
     "execution_count": 424,
     "metadata": {},
     "output_type": "execute_result"
    },
    {
     "data": {
      "image/png": "[encoded data removed]",
      "text/plain": [
       "<Figure size 432x288 with 1 Axes>"
      ]
     },
     "metadata": {
      "needs_background": "light"
     },
     "output_type": "display_data"
    }
   ],
   "source": [
    "sns.countplot(x='Social smoker',hue='Absenteeism categories',data=df)"
   ]
  },
  {
   "cell_type": "code",
   "execution_count": 425,
   "metadata": {},
   "outputs": [
    {
     "data": {
      "text/plain": [
       "<matplotlib.axes._subplots.AxesSubplot at 0x24bf2ac8808>"
      ]
     },
     "execution_count": 425,
     "metadata": {},
     "output_type": "execute_result"
    },
    {
     "data": {
      "image/png": "[encoded data removed]",
      "text/plain": [
       "<Figure size 432x288 with 1 Axes>"
      ]
     },
     "metadata": {
      "needs_background": "light"
     },
     "output_type": "display_data"
    }
   ],
   "source": [
    "sns.countplot(x='season_name',hue='Absenteeism categories',data=df)"
   ]
  },
  {
   "cell_type": "code",
   "execution_count": 426,
   "metadata": {},
   "outputs": [
    {
     "data": {
      "text/plain": [
       "<matplotlib.axes._subplots.AxesSubplot at 0x24bf2b43cc8>"
      ]
     },
     "execution_count": 426,
     "metadata": {},
     "output_type": "execute_result"
    },
    {
     "data": {
      "image/png": "[encoded data removed]",
      "text/plain": [
       "<Figure size 864x576 with 1 Axes>"
      ]
     },
     "metadata": {
      "needs_background": "light"
     },
     "output_type": "display_data"
    }
   ],
   "source": [
    "plt.figure(figsize=(12,8))\n",
    "sns.countplot(x='Distance from Residence to Work',hue='Absenteeism categories',data=df)"
   ]
  },
  {
   "cell_type": "code",
   "execution_count": 427,
   "metadata": {},
   "outputs": [
    {
     "data": {
      "text/plain": [
       "<matplotlib.axes._subplots.AxesSubplot at 0x24bf3036f48>"
      ]
     },
     "execution_count": 427,
     "metadata": {},
     "output_type": "execute_result"
    },
    {
     "data": {
      "image/png": "[encoded data removed]",
      "text/plain": [
       "<Figure size 432x288 with 1 Axes>"
      ]
     },
     "metadata": {
      "needs_background": "light"
     },
     "output_type": "display_data"
    }
   ],
   "source": [
    "sns.countplot(x='Pet',hue='Absenteeism categories',data=df)"
   ]
  },
  {
   "cell_type": "code",
   "execution_count": 359,
   "metadata": {},
   "outputs": [],
   "source": [
    "df.Age =df.Age.replace(\"R\", 0)\n",
    "\n",
    "df['Age'] =df['Age'].astype(str).astype('int64')"
   ]
  },
  {
   "cell_type": "code",
   "execution_count": null,
   "metadata": {},
   "outputs": [],
   "source": []
  },
  {
   "cell_type": "code",
   "execution_count": null,
   "metadata": {},
   "outputs": [],
   "source": []
  },
  {
   "cell_type": "code",
   "execution_count": null,
   "metadata": {},
   "outputs": [],
   "source": []
  },
  {
   "cell_type": "code",
   "execution_count": null,
   "metadata": {},
   "outputs": [],
   "source": []
  },
  {
   "cell_type": "code",
   "execution_count": 428,
   "metadata": {},
   "outputs": [],
   "source": [
    "df['Age'] =df['Age'].astype('int64')"
   ]
  },
  {
   "cell_type": "code",
   "execution_count": 429,
   "metadata": {},
   "outputs": [
    {
     "data": {
      "text/html": [
       "<div>\n",
       "<style scoped>\n",
       "    .dataframe tbody tr th:only-of-type {\n",
       "        vertical-align: middle;\n",
       "    }\n",
       "\n",
       "    .dataframe tbody tr th {\n",
       "        vertical-align: top;\n",
       "    }\n",
       "\n",
       "    .dataframe thead th {\n",
       "        text-align: right;\n",
       "    }\n",
       "</style>\n",
       "<table border=\"1\" class=\"dataframe\">\n",
       "  <thead>\n",
       "    <tr style=\"text-align: right;\">\n",
       "      <th></th>\n",
       "      <th>ID</th>\n",
       "      <th>Reason for absence</th>\n",
       "      <th>Month of absence</th>\n",
       "      <th>Day of the week</th>\n",
       "      <th>Seasons</th>\n",
       "      <th>Transportation expense</th>\n",
       "      <th>Distance from Residence to Work</th>\n",
       "      <th>Service time</th>\n",
       "      <th>Age</th>\n",
       "      <th>Work load Average/day</th>\n",
       "      <th>...</th>\n",
       "      <th>Social drinker</th>\n",
       "      <th>Social smoker</th>\n",
       "      <th>Pet</th>\n",
       "      <th>Weight</th>\n",
       "      <th>Height</th>\n",
       "      <th>Body mass index</th>\n",
       "      <th>Absenteeism time in hours</th>\n",
       "      <th>season_name</th>\n",
       "      <th>followUp_req</th>\n",
       "      <th>Absenteeism categories</th>\n",
       "    </tr>\n",
       "  </thead>\n",
       "  <tbody>\n",
       "    <tr>\n",
       "      <th>0</th>\n",
       "      <td>11</td>\n",
       "      <td>26</td>\n",
       "      <td>7</td>\n",
       "      <td>3</td>\n",
       "      <td>1</td>\n",
       "      <td>289</td>\n",
       "      <td>36</td>\n",
       "      <td>13</td>\n",
       "      <td>33</td>\n",
       "      <td>239554</td>\n",
       "      <td>...</td>\n",
       "      <td>1</td>\n",
       "      <td>0</td>\n",
       "      <td>1</td>\n",
       "      <td>90</td>\n",
       "      <td>172</td>\n",
       "      <td>30</td>\n",
       "      <td>4</td>\n",
       "      <td>Summer</td>\n",
       "      <td>0</td>\n",
       "      <td>Group 4</td>\n",
       "    </tr>\n",
       "    <tr>\n",
       "      <th>1</th>\n",
       "      <td>36</td>\n",
       "      <td>0</td>\n",
       "      <td>7</td>\n",
       "      <td>3</td>\n",
       "      <td>1</td>\n",
       "      <td>118</td>\n",
       "      <td>13</td>\n",
       "      <td>18</td>\n",
       "      <td>50</td>\n",
       "      <td>239554</td>\n",
       "      <td>...</td>\n",
       "      <td>1</td>\n",
       "      <td>0</td>\n",
       "      <td>0</td>\n",
       "      <td>98</td>\n",
       "      <td>178</td>\n",
       "      <td>31</td>\n",
       "      <td>0</td>\n",
       "      <td>Summer</td>\n",
       "      <td>1</td>\n",
       "      <td>Group 0</td>\n",
       "    </tr>\n",
       "    <tr>\n",
       "      <th>2</th>\n",
       "      <td>3</td>\n",
       "      <td>23</td>\n",
       "      <td>7</td>\n",
       "      <td>4</td>\n",
       "      <td>1</td>\n",
       "      <td>179</td>\n",
       "      <td>51</td>\n",
       "      <td>18</td>\n",
       "      <td>38</td>\n",
       "      <td>239554</td>\n",
       "      <td>...</td>\n",
       "      <td>1</td>\n",
       "      <td>0</td>\n",
       "      <td>0</td>\n",
       "      <td>89</td>\n",
       "      <td>170</td>\n",
       "      <td>31</td>\n",
       "      <td>2</td>\n",
       "      <td>Summer</td>\n",
       "      <td>0</td>\n",
       "      <td>Group 2</td>\n",
       "    </tr>\n",
       "    <tr>\n",
       "      <th>3</th>\n",
       "      <td>7</td>\n",
       "      <td>7</td>\n",
       "      <td>7</td>\n",
       "      <td>5</td>\n",
       "      <td>1</td>\n",
       "      <td>279</td>\n",
       "      <td>5</td>\n",
       "      <td>14</td>\n",
       "      <td>39</td>\n",
       "      <td>239554</td>\n",
       "      <td>...</td>\n",
       "      <td>1</td>\n",
       "      <td>1</td>\n",
       "      <td>0</td>\n",
       "      <td>68</td>\n",
       "      <td>168</td>\n",
       "      <td>24</td>\n",
       "      <td>4</td>\n",
       "      <td>Summer</td>\n",
       "      <td>1</td>\n",
       "      <td>Group 4</td>\n",
       "    </tr>\n",
       "    <tr>\n",
       "      <th>4</th>\n",
       "      <td>11</td>\n",
       "      <td>23</td>\n",
       "      <td>7</td>\n",
       "      <td>5</td>\n",
       "      <td>1</td>\n",
       "      <td>289</td>\n",
       "      <td>36</td>\n",
       "      <td>13</td>\n",
       "      <td>33</td>\n",
       "      <td>239554</td>\n",
       "      <td>...</td>\n",
       "      <td>1</td>\n",
       "      <td>0</td>\n",
       "      <td>1</td>\n",
       "      <td>90</td>\n",
       "      <td>172</td>\n",
       "      <td>30</td>\n",
       "      <td>2</td>\n",
       "      <td>Summer</td>\n",
       "      <td>0</td>\n",
       "      <td>Group 2</td>\n",
       "    </tr>\n",
       "  </tbody>\n",
       "</table>\n",
       "<p>5 rows × 24 columns</p>\n",
       "</div>"
      ],
      "text/plain": [
       "   ID Reason for absence Month of absence Day of the week Seasons  \\\n",
       "0  11                 26                7               3       1   \n",
       "1  36                  0                7               3       1   \n",
       "2   3                 23                7               4       1   \n",
       "3   7                  7                7               5       1   \n",
       "4  11                 23                7               5       1   \n",
       "\n",
       "   Transportation expense  Distance from Residence to Work  Service time  Age  \\\n",
       "0                     289                               36            13   33   \n",
       "1                     118                               13            18   50   \n",
       "2                     179                               51            18   38   \n",
       "3                     279                                5            14   39   \n",
       "4                     289                               36            13   33   \n",
       "\n",
       "   Work load Average/day   ...  Social drinker Social smoker Pet  Weight  \\\n",
       "0                  239554  ...               1             0   1      90   \n",
       "1                  239554  ...               1             0   0      98   \n",
       "2                  239554  ...               1             0   0      89   \n",
       "3                  239554  ...               1             1   0      68   \n",
       "4                  239554  ...               1             0   1      90   \n",
       "\n",
       "  Height Body mass index Absenteeism time in hours  season_name  followUp_req  \\\n",
       "0    172              30                         4       Summer             0   \n",
       "1    178              31                         0       Summer             1   \n",
       "2    170              31                         2       Summer             0   \n",
       "3    168              24                         4       Summer             1   \n",
       "4    172              30                         2       Summer             0   \n",
       "\n",
       "   Absenteeism categories  \n",
       "0                 Group 4  \n",
       "1                 Group 0  \n",
       "2                 Group 2  \n",
       "3                 Group 4  \n",
       "4                 Group 2  \n",
       "\n",
       "[5 rows x 24 columns]"
      ]
     },
     "execution_count": 429,
     "metadata": {},
     "output_type": "execute_result"
    }
   ],
   "source": [
    "df.head()"
   ]
  },
  {
   "cell_type": "code",
   "execution_count": 430,
   "metadata": {},
   "outputs": [
    {
     "name": "stdout",
     "output_type": "stream",
     "text": [
      "<class 'pandas.core.frame.DataFrame'>\n",
      "RangeIndex: 740 entries, 0 to 739\n",
      "Data columns (total 24 columns):\n",
      " #   Column                           Non-Null Count  Dtype   \n",
      "---  ------                           --------------  -----   \n",
      " 0   ID                               740 non-null    int64   \n",
      " 1   Reason for absence               740 non-null    category\n",
      " 2   Month of absence                 740 non-null    category\n",
      " 3   Day of the week                  740 non-null    category\n",
      " 4   Seasons                          740 non-null    category\n",
      " 5   Transportation expense           740 non-null    int64   \n",
      " 6   Distance from Residence to Work  740 non-null    int64   \n",
      " 7   Service time                     740 non-null    int64   \n",
      " 8   Age                              740 non-null    int64   \n",
      " 9   Work load Average/day            740 non-null    int64   \n",
      " 10  Hit target                       740 non-null    int64   \n",
      " 11  Disciplinary failure             740 non-null    category\n",
      " 12  Education                        740 non-null    category\n",
      " 13  Son                              740 non-null    int64   \n",
      " 14  Social drinker                   740 non-null    category\n",
      " 15  Social smoker                    740 non-null    category\n",
      " 16  Pet                              740 non-null    category\n",
      " 17  Weight                           740 non-null    int64   \n",
      " 18  Height                           740 non-null    int64   \n",
      " 19  Body mass index                  740 non-null    int64   \n",
      " 20  Absenteeism time in hours        740 non-null    int64   \n",
      " 21  season_name                      740 non-null    object  \n",
      " 22  followUp_req                     740 non-null    category\n",
      " 23  Absenteeism categories           740 non-null    category\n",
      "dtypes: category(11), int64(12), object(1)\n",
      "memory usage: 86.9+ KB\n"
     ]
    }
   ],
   "source": [
    "df.info()"
   ]
  },
  {
   "cell_type": "code",
   "execution_count": 431,
   "metadata": {},
   "outputs": [
    {
     "data": {
      "text/plain": [
       "1    611\n",
       "3     79\n",
       "2     46\n",
       "4      4\n",
       "Name: Education, dtype: int64"
      ]
     },
     "execution_count": 431,
     "metadata": {},
     "output_type": "execute_result"
    }
   ],
   "source": [
    "df['Education'].value_counts()"
   ]
  },
  {
   "cell_type": "code",
   "execution_count": 432,
   "metadata": {},
   "outputs": [],
   "source": [
    "from sklearn.preprocessing import LabelEncoder\n",
    "le = LabelEncoder()\n"
   ]
  },
  {
   "cell_type": "code",
   "execution_count": 433,
   "metadata": {},
   "outputs": [],
   "source": [
    "df['Absenteeism categories']=le.fit_transform(df['Absenteeism categories'])"
   ]
  },
  {
   "cell_type": "code",
   "execution_count": 434,
   "metadata": {},
   "outputs": [
    {
     "data": {
      "text/html": [
       "<div>\n",
       "<style scoped>\n",
       "    .dataframe tbody tr th:only-of-type {\n",
       "        vertical-align: middle;\n",
       "    }\n",
       "\n",
       "    .dataframe tbody tr th {\n",
       "        vertical-align: top;\n",
       "    }\n",
       "\n",
       "    .dataframe thead th {\n",
       "        text-align: right;\n",
       "    }\n",
       "</style>\n",
       "<table border=\"1\" class=\"dataframe\">\n",
       "  <thead>\n",
       "    <tr style=\"text-align: right;\">\n",
       "      <th></th>\n",
       "      <th>ID</th>\n",
       "      <th>Reason for absence</th>\n",
       "      <th>Month of absence</th>\n",
       "      <th>Day of the week</th>\n",
       "      <th>Seasons</th>\n",
       "      <th>Transportation expense</th>\n",
       "      <th>Distance from Residence to Work</th>\n",
       "      <th>Service time</th>\n",
       "      <th>Age</th>\n",
       "      <th>Work load Average/day</th>\n",
       "      <th>...</th>\n",
       "      <th>Social drinker</th>\n",
       "      <th>Social smoker</th>\n",
       "      <th>Pet</th>\n",
       "      <th>Weight</th>\n",
       "      <th>Height</th>\n",
       "      <th>Body mass index</th>\n",
       "      <th>Absenteeism time in hours</th>\n",
       "      <th>season_name</th>\n",
       "      <th>followUp_req</th>\n",
       "      <th>Absenteeism categories</th>\n",
       "    </tr>\n",
       "  </thead>\n",
       "  <tbody>\n",
       "    <tr>\n",
       "      <th>0</th>\n",
       "      <td>11</td>\n",
       "      <td>26</td>\n",
       "      <td>7</td>\n",
       "      <td>3</td>\n",
       "      <td>1</td>\n",
       "      <td>289</td>\n",
       "      <td>36</td>\n",
       "      <td>13</td>\n",
       "      <td>33</td>\n",
       "      <td>239554</td>\n",
       "      <td>...</td>\n",
       "      <td>1</td>\n",
       "      <td>0</td>\n",
       "      <td>1</td>\n",
       "      <td>90</td>\n",
       "      <td>172</td>\n",
       "      <td>30</td>\n",
       "      <td>4</td>\n",
       "      <td>Summer</td>\n",
       "      <td>0</td>\n",
       "      <td>4</td>\n",
       "    </tr>\n",
       "    <tr>\n",
       "      <th>1</th>\n",
       "      <td>36</td>\n",
       "      <td>0</td>\n",
       "      <td>7</td>\n",
       "      <td>3</td>\n",
       "      <td>1</td>\n",
       "      <td>118</td>\n",
       "      <td>13</td>\n",
       "      <td>18</td>\n",
       "      <td>50</td>\n",
       "      <td>239554</td>\n",
       "      <td>...</td>\n",
       "      <td>1</td>\n",
       "      <td>0</td>\n",
       "      <td>0</td>\n",
       "      <td>98</td>\n",
       "      <td>178</td>\n",
       "      <td>31</td>\n",
       "      <td>0</td>\n",
       "      <td>Summer</td>\n",
       "      <td>1</td>\n",
       "      <td>0</td>\n",
       "    </tr>\n",
       "    <tr>\n",
       "      <th>2</th>\n",
       "      <td>3</td>\n",
       "      <td>23</td>\n",
       "      <td>7</td>\n",
       "      <td>4</td>\n",
       "      <td>1</td>\n",
       "      <td>179</td>\n",
       "      <td>51</td>\n",
       "      <td>18</td>\n",
       "      <td>38</td>\n",
       "      <td>239554</td>\n",
       "      <td>...</td>\n",
       "      <td>1</td>\n",
       "      <td>0</td>\n",
       "      <td>0</td>\n",
       "      <td>89</td>\n",
       "      <td>170</td>\n",
       "      <td>31</td>\n",
       "      <td>2</td>\n",
       "      <td>Summer</td>\n",
       "      <td>0</td>\n",
       "      <td>2</td>\n",
       "    </tr>\n",
       "    <tr>\n",
       "      <th>3</th>\n",
       "      <td>7</td>\n",
       "      <td>7</td>\n",
       "      <td>7</td>\n",
       "      <td>5</td>\n",
       "      <td>1</td>\n",
       "      <td>279</td>\n",
       "      <td>5</td>\n",
       "      <td>14</td>\n",
       "      <td>39</td>\n",
       "      <td>239554</td>\n",
       "      <td>...</td>\n",
       "      <td>1</td>\n",
       "      <td>1</td>\n",
       "      <td>0</td>\n",
       "      <td>68</td>\n",
       "      <td>168</td>\n",
       "      <td>24</td>\n",
       "      <td>4</td>\n",
       "      <td>Summer</td>\n",
       "      <td>1</td>\n",
       "      <td>4</td>\n",
       "    </tr>\n",
       "    <tr>\n",
       "      <th>4</th>\n",
       "      <td>11</td>\n",
       "      <td>23</td>\n",
       "      <td>7</td>\n",
       "      <td>5</td>\n",
       "      <td>1</td>\n",
       "      <td>289</td>\n",
       "      <td>36</td>\n",
       "      <td>13</td>\n",
       "      <td>33</td>\n",
       "      <td>239554</td>\n",
       "      <td>...</td>\n",
       "      <td>1</td>\n",
       "      <td>0</td>\n",
       "      <td>1</td>\n",
       "      <td>90</td>\n",
       "      <td>172</td>\n",
       "      <td>30</td>\n",
       "      <td>2</td>\n",
       "      <td>Summer</td>\n",
       "      <td>0</td>\n",
       "      <td>2</td>\n",
       "    </tr>\n",
       "  </tbody>\n",
       "</table>\n",
       "<p>5 rows × 24 columns</p>\n",
       "</div>"
      ],
      "text/plain": [
       "   ID Reason for absence Month of absence Day of the week Seasons  \\\n",
       "0  11                 26                7               3       1   \n",
       "1  36                  0                7               3       1   \n",
       "2   3                 23                7               4       1   \n",
       "3   7                  7                7               5       1   \n",
       "4  11                 23                7               5       1   \n",
       "\n",
       "   Transportation expense  Distance from Residence to Work  Service time  Age  \\\n",
       "0                     289                               36            13   33   \n",
       "1                     118                               13            18   50   \n",
       "2                     179                               51            18   38   \n",
       "3                     279                                5            14   39   \n",
       "4                     289                               36            13   33   \n",
       "\n",
       "   Work load Average/day   ...  Social drinker Social smoker Pet  Weight  \\\n",
       "0                  239554  ...               1             0   1      90   \n",
       "1                  239554  ...               1             0   0      98   \n",
       "2                  239554  ...               1             0   0      89   \n",
       "3                  239554  ...               1             1   0      68   \n",
       "4                  239554  ...               1             0   1      90   \n",
       "\n",
       "  Height Body mass index Absenteeism time in hours  season_name  followUp_req  \\\n",
       "0    172              30                         4       Summer             0   \n",
       "1    178              31                         0       Summer             1   \n",
       "2    170              31                         2       Summer             0   \n",
       "3    168              24                         4       Summer             1   \n",
       "4    172              30                         2       Summer             0   \n",
       "\n",
       "   Absenteeism categories  \n",
       "0                       4  \n",
       "1                       0  \n",
       "2                       2  \n",
       "3                       4  \n",
       "4                       2  \n",
       "\n",
       "[5 rows x 24 columns]"
      ]
     },
     "execution_count": 434,
     "metadata": {},
     "output_type": "execute_result"
    }
   ],
   "source": [
    "df.head()"
   ]
  },
  {
   "cell_type": "code",
   "execution_count": 435,
   "metadata": {},
   "outputs": [],
   "source": [
    "df.drop(['Absenteeism time in hours','season_name'],axis=1,inplace=True)"
   ]
  },
  {
   "cell_type": "code",
   "execution_count": 436,
   "metadata": {},
   "outputs": [
    {
     "data": {
      "text/html": [
       "<div>\n",
       "<style scoped>\n",
       "    .dataframe tbody tr th:only-of-type {\n",
       "        vertical-align: middle;\n",
       "    }\n",
       "\n",
       "    .dataframe tbody tr th {\n",
       "        vertical-align: top;\n",
       "    }\n",
       "\n",
       "    .dataframe thead th {\n",
       "        text-align: right;\n",
       "    }\n",
       "</style>\n",
       "<table border=\"1\" class=\"dataframe\">\n",
       "  <thead>\n",
       "    <tr style=\"text-align: right;\">\n",
       "      <th></th>\n",
       "      <th>ID</th>\n",
       "      <th>Reason for absence</th>\n",
       "      <th>Month of absence</th>\n",
       "      <th>Day of the week</th>\n",
       "      <th>Seasons</th>\n",
       "      <th>Transportation expense</th>\n",
       "      <th>Distance from Residence to Work</th>\n",
       "      <th>Service time</th>\n",
       "      <th>Age</th>\n",
       "      <th>Work load Average/day</th>\n",
       "      <th>...</th>\n",
       "      <th>Education</th>\n",
       "      <th>Son</th>\n",
       "      <th>Social drinker</th>\n",
       "      <th>Social smoker</th>\n",
       "      <th>Pet</th>\n",
       "      <th>Weight</th>\n",
       "      <th>Height</th>\n",
       "      <th>Body mass index</th>\n",
       "      <th>followUp_req</th>\n",
       "      <th>Absenteeism categories</th>\n",
       "    </tr>\n",
       "  </thead>\n",
       "  <tbody>\n",
       "    <tr>\n",
       "      <th>0</th>\n",
       "      <td>11</td>\n",
       "      <td>26</td>\n",
       "      <td>7</td>\n",
       "      <td>3</td>\n",
       "      <td>1</td>\n",
       "      <td>289</td>\n",
       "      <td>36</td>\n",
       "      <td>13</td>\n",
       "      <td>33</td>\n",
       "      <td>239554</td>\n",
       "      <td>...</td>\n",
       "      <td>1</td>\n",
       "      <td>2</td>\n",
       "      <td>1</td>\n",
       "      <td>0</td>\n",
       "      <td>1</td>\n",
       "      <td>90</td>\n",
       "      <td>172</td>\n",
       "      <td>30</td>\n",
       "      <td>0</td>\n",
       "      <td>4</td>\n",
       "    </tr>\n",
       "    <tr>\n",
       "      <th>1</th>\n",
       "      <td>36</td>\n",
       "      <td>0</td>\n",
       "      <td>7</td>\n",
       "      <td>3</td>\n",
       "      <td>1</td>\n",
       "      <td>118</td>\n",
       "      <td>13</td>\n",
       "      <td>18</td>\n",
       "      <td>50</td>\n",
       "      <td>239554</td>\n",
       "      <td>...</td>\n",
       "      <td>1</td>\n",
       "      <td>1</td>\n",
       "      <td>1</td>\n",
       "      <td>0</td>\n",
       "      <td>0</td>\n",
       "      <td>98</td>\n",
       "      <td>178</td>\n",
       "      <td>31</td>\n",
       "      <td>1</td>\n",
       "      <td>0</td>\n",
       "    </tr>\n",
       "    <tr>\n",
       "      <th>2</th>\n",
       "      <td>3</td>\n",
       "      <td>23</td>\n",
       "      <td>7</td>\n",
       "      <td>4</td>\n",
       "      <td>1</td>\n",
       "      <td>179</td>\n",
       "      <td>51</td>\n",
       "      <td>18</td>\n",
       "      <td>38</td>\n",
       "      <td>239554</td>\n",
       "      <td>...</td>\n",
       "      <td>1</td>\n",
       "      <td>0</td>\n",
       "      <td>1</td>\n",
       "      <td>0</td>\n",
       "      <td>0</td>\n",
       "      <td>89</td>\n",
       "      <td>170</td>\n",
       "      <td>31</td>\n",
       "      <td>0</td>\n",
       "      <td>2</td>\n",
       "    </tr>\n",
       "    <tr>\n",
       "      <th>3</th>\n",
       "      <td>7</td>\n",
       "      <td>7</td>\n",
       "      <td>7</td>\n",
       "      <td>5</td>\n",
       "      <td>1</td>\n",
       "      <td>279</td>\n",
       "      <td>5</td>\n",
       "      <td>14</td>\n",
       "      <td>39</td>\n",
       "      <td>239554</td>\n",
       "      <td>...</td>\n",
       "      <td>1</td>\n",
       "      <td>2</td>\n",
       "      <td>1</td>\n",
       "      <td>1</td>\n",
       "      <td>0</td>\n",
       "      <td>68</td>\n",
       "      <td>168</td>\n",
       "      <td>24</td>\n",
       "      <td>1</td>\n",
       "      <td>4</td>\n",
       "    </tr>\n",
       "    <tr>\n",
       "      <th>4</th>\n",
       "      <td>11</td>\n",
       "      <td>23</td>\n",
       "      <td>7</td>\n",
       "      <td>5</td>\n",
       "      <td>1</td>\n",
       "      <td>289</td>\n",
       "      <td>36</td>\n",
       "      <td>13</td>\n",
       "      <td>33</td>\n",
       "      <td>239554</td>\n",
       "      <td>...</td>\n",
       "      <td>1</td>\n",
       "      <td>2</td>\n",
       "      <td>1</td>\n",
       "      <td>0</td>\n",
       "      <td>1</td>\n",
       "      <td>90</td>\n",
       "      <td>172</td>\n",
       "      <td>30</td>\n",
       "      <td>0</td>\n",
       "      <td>2</td>\n",
       "    </tr>\n",
       "  </tbody>\n",
       "</table>\n",
       "<p>5 rows × 22 columns</p>\n",
       "</div>"
      ],
      "text/plain": [
       "   ID Reason for absence Month of absence Day of the week Seasons  \\\n",
       "0  11                 26                7               3       1   \n",
       "1  36                  0                7               3       1   \n",
       "2   3                 23                7               4       1   \n",
       "3   7                  7                7               5       1   \n",
       "4  11                 23                7               5       1   \n",
       "\n",
       "   Transportation expense  Distance from Residence to Work  Service time  Age  \\\n",
       "0                     289                               36            13   33   \n",
       "1                     118                               13            18   50   \n",
       "2                     179                               51            18   38   \n",
       "3                     279                                5            14   39   \n",
       "4                     289                               36            13   33   \n",
       "\n",
       "   Work load Average/day   ...  Education Son Social drinker  Social smoker  \\\n",
       "0                  239554  ...          1   2              1              0   \n",
       "1                  239554  ...          1   1              1              0   \n",
       "2                  239554  ...          1   0              1              0   \n",
       "3                  239554  ...          1   2              1              1   \n",
       "4                  239554  ...          1   2              1              0   \n",
       "\n",
       "  Pet Weight Height  Body mass index  followUp_req  Absenteeism categories  \n",
       "0   1     90    172               30             0                       4  \n",
       "1   0     98    178               31             1                       0  \n",
       "2   0     89    170               31             0                       2  \n",
       "3   0     68    168               24             1                       4  \n",
       "4   1     90    172               30             0                       2  \n",
       "\n",
       "[5 rows x 22 columns]"
      ]
     },
     "execution_count": 436,
     "metadata": {},
     "output_type": "execute_result"
    }
   ],
   "source": [
    "df.head()"
   ]
  },
  {
   "cell_type": "code",
   "execution_count": 437,
   "metadata": {},
   "outputs": [
    {
     "name": "stdout",
     "output_type": "stream",
     "text": [
      "<class 'pandas.core.frame.DataFrame'>\n",
      "RangeIndex: 740 entries, 0 to 739\n",
      "Data columns (total 22 columns):\n",
      " #   Column                           Non-Null Count  Dtype   \n",
      "---  ------                           --------------  -----   \n",
      " 0   ID                               740 non-null    int64   \n",
      " 1   Reason for absence               740 non-null    category\n",
      " 2   Month of absence                 740 non-null    category\n",
      " 3   Day of the week                  740 non-null    category\n",
      " 4   Seasons                          740 non-null    category\n",
      " 5   Transportation expense           740 non-null    int64   \n",
      " 6   Distance from Residence to Work  740 non-null    int64   \n",
      " 7   Service time                     740 non-null    int64   \n",
      " 8   Age                              740 non-null    int64   \n",
      " 9   Work load Average/day            740 non-null    int64   \n",
      " 10  Hit target                       740 non-null    int64   \n",
      " 11  Disciplinary failure             740 non-null    category\n",
      " 12  Education                        740 non-null    category\n",
      " 13  Son                              740 non-null    int64   \n",
      " 14  Social drinker                   740 non-null    category\n",
      " 15  Social smoker                    740 non-null    category\n",
      " 16  Pet                              740 non-null    category\n",
      " 17  Weight                           740 non-null    int64   \n",
      " 18  Height                           740 non-null    int64   \n",
      " 19  Body mass index                  740 non-null    int64   \n",
      " 20  followUp_req                     740 non-null    category\n",
      " 21  Absenteeism categories           740 non-null    int32   \n",
      "dtypes: category(10), int32(1), int64(11)\n",
      "memory usage: 77.2 KB\n"
     ]
    }
   ],
   "source": [
    "df.info()"
   ]
  },
  {
   "cell_type": "code",
   "execution_count": 438,
   "metadata": {},
   "outputs": [
    {
     "data": {
      "text/html": [
       "<div>\n",
       "<style scoped>\n",
       "    .dataframe tbody tr th:only-of-type {\n",
       "        vertical-align: middle;\n",
       "    }\n",
       "\n",
       "    .dataframe tbody tr th {\n",
       "        vertical-align: top;\n",
       "    }\n",
       "\n",
       "    .dataframe thead th {\n",
       "        text-align: right;\n",
       "    }\n",
       "</style>\n",
       "<table border=\"1\" class=\"dataframe\">\n",
       "  <thead>\n",
       "    <tr style=\"text-align: right;\">\n",
       "      <th></th>\n",
       "      <th>ID</th>\n",
       "      <th>Transportation expense</th>\n",
       "      <th>Distance from Residence to Work</th>\n",
       "      <th>Service time</th>\n",
       "      <th>Age</th>\n",
       "      <th>Work load Average/day</th>\n",
       "      <th>Hit target</th>\n",
       "      <th>Son</th>\n",
       "      <th>Weight</th>\n",
       "      <th>Height</th>\n",
       "      <th>Body mass index</th>\n",
       "      <th>Absenteeism categories</th>\n",
       "    </tr>\n",
       "  </thead>\n",
       "  <tbody>\n",
       "    <tr>\n",
       "      <th>ID</th>\n",
       "      <td>1.000000</td>\n",
       "      <td>-0.224163</td>\n",
       "      <td>-0.486160</td>\n",
       "      <td>-0.272704</td>\n",
       "      <td>0.040899</td>\n",
       "      <td>0.092457</td>\n",
       "      <td>0.018789</td>\n",
       "      <td>0.002767</td>\n",
       "      <td>-0.254222</td>\n",
       "      <td>0.076363</td>\n",
       "      <td>-0.306924</td>\n",
       "      <td>-0.127380</td>\n",
       "    </tr>\n",
       "    <tr>\n",
       "      <th>Transportation expense</th>\n",
       "      <td>-0.224163</td>\n",
       "      <td>1.000000</td>\n",
       "      <td>0.262183</td>\n",
       "      <td>-0.349887</td>\n",
       "      <td>-0.227542</td>\n",
       "      <td>0.005438</td>\n",
       "      <td>-0.080193</td>\n",
       "      <td>0.383001</td>\n",
       "      <td>-0.207435</td>\n",
       "      <td>-0.194496</td>\n",
       "      <td>-0.136517</td>\n",
       "      <td>0.166207</td>\n",
       "    </tr>\n",
       "    <tr>\n",
       "      <th>Distance from Residence to Work</th>\n",
       "      <td>-0.486160</td>\n",
       "      <td>0.262183</td>\n",
       "      <td>1.000000</td>\n",
       "      <td>0.131730</td>\n",
       "      <td>-0.145886</td>\n",
       "      <td>-0.068677</td>\n",
       "      <td>-0.013865</td>\n",
       "      <td>0.054230</td>\n",
       "      <td>-0.047859</td>\n",
       "      <td>-0.353372</td>\n",
       "      <td>0.113772</td>\n",
       "      <td>0.019832</td>\n",
       "    </tr>\n",
       "    <tr>\n",
       "      <th>Service time</th>\n",
       "      <td>-0.272704</td>\n",
       "      <td>-0.349887</td>\n",
       "      <td>0.131730</td>\n",
       "      <td>1.000000</td>\n",
       "      <td>0.670979</td>\n",
       "      <td>-0.000668</td>\n",
       "      <td>-0.007840</td>\n",
       "      <td>-0.047128</td>\n",
       "      <td>0.455975</td>\n",
       "      <td>-0.053135</td>\n",
       "      <td>0.499718</td>\n",
       "      <td>-0.058995</td>\n",
       "    </tr>\n",
       "    <tr>\n",
       "      <th>Age</th>\n",
       "      <td>0.040899</td>\n",
       "      <td>-0.227542</td>\n",
       "      <td>-0.145886</td>\n",
       "      <td>0.670979</td>\n",
       "      <td>1.000000</td>\n",
       "      <td>-0.039425</td>\n",
       "      <td>-0.039224</td>\n",
       "      <td>0.056984</td>\n",
       "      <td>0.418730</td>\n",
       "      <td>-0.062997</td>\n",
       "      <td>0.470688</td>\n",
       "      <td>-0.075147</td>\n",
       "    </tr>\n",
       "    <tr>\n",
       "      <th>Work load Average/day</th>\n",
       "      <td>0.092457</td>\n",
       "      <td>0.005438</td>\n",
       "      <td>-0.068677</td>\n",
       "      <td>-0.000668</td>\n",
       "      <td>-0.039425</td>\n",
       "      <td>1.000000</td>\n",
       "      <td>-0.089445</td>\n",
       "      <td>0.027820</td>\n",
       "      <td>-0.038522</td>\n",
       "      <td>0.103315</td>\n",
       "      <td>-0.090709</td>\n",
       "      <td>0.029561</td>\n",
       "    </tr>\n",
       "    <tr>\n",
       "      <th>Hit target</th>\n",
       "      <td>0.018789</td>\n",
       "      <td>-0.080193</td>\n",
       "      <td>-0.013865</td>\n",
       "      <td>-0.007840</td>\n",
       "      <td>-0.039224</td>\n",
       "      <td>-0.089445</td>\n",
       "      <td>1.000000</td>\n",
       "      <td>-0.014091</td>\n",
       "      <td>-0.044947</td>\n",
       "      <td>0.093267</td>\n",
       "      <td>-0.088939</td>\n",
       "      <td>0.046691</td>\n",
       "    </tr>\n",
       "    <tr>\n",
       "      <th>Son</th>\n",
       "      <td>0.002767</td>\n",
       "      <td>0.383001</td>\n",
       "      <td>0.054230</td>\n",
       "      <td>-0.047128</td>\n",
       "      <td>0.056984</td>\n",
       "      <td>0.027820</td>\n",
       "      <td>-0.014091</td>\n",
       "      <td>1.000000</td>\n",
       "      <td>-0.139552</td>\n",
       "      <td>-0.014208</td>\n",
       "      <td>-0.144150</td>\n",
       "      <td>0.160175</td>\n",
       "    </tr>\n",
       "    <tr>\n",
       "      <th>Weight</th>\n",
       "      <td>-0.254222</td>\n",
       "      <td>-0.207435</td>\n",
       "      <td>-0.047859</td>\n",
       "      <td>0.455975</td>\n",
       "      <td>0.418730</td>\n",
       "      <td>-0.038522</td>\n",
       "      <td>-0.044947</td>\n",
       "      <td>-0.139552</td>\n",
       "      <td>1.000000</td>\n",
       "      <td>0.306802</td>\n",
       "      <td>0.904117</td>\n",
       "      <td>-0.018243</td>\n",
       "    </tr>\n",
       "    <tr>\n",
       "      <th>Height</th>\n",
       "      <td>0.076363</td>\n",
       "      <td>-0.194496</td>\n",
       "      <td>-0.353372</td>\n",
       "      <td>-0.053135</td>\n",
       "      <td>-0.062997</td>\n",
       "      <td>0.103315</td>\n",
       "      <td>0.093267</td>\n",
       "      <td>-0.014208</td>\n",
       "      <td>0.306802</td>\n",
       "      <td>1.000000</td>\n",
       "      <td>-0.121049</td>\n",
       "      <td>0.069459</td>\n",
       "    </tr>\n",
       "    <tr>\n",
       "      <th>Body mass index</th>\n",
       "      <td>-0.306924</td>\n",
       "      <td>-0.136517</td>\n",
       "      <td>0.113772</td>\n",
       "      <td>0.499718</td>\n",
       "      <td>0.470688</td>\n",
       "      <td>-0.090709</td>\n",
       "      <td>-0.088939</td>\n",
       "      <td>-0.144150</td>\n",
       "      <td>0.904117</td>\n",
       "      <td>-0.121049</td>\n",
       "      <td>1.000000</td>\n",
       "      <td>-0.053863</td>\n",
       "    </tr>\n",
       "    <tr>\n",
       "      <th>Absenteeism categories</th>\n",
       "      <td>-0.127380</td>\n",
       "      <td>0.166207</td>\n",
       "      <td>0.019832</td>\n",
       "      <td>-0.058995</td>\n",
       "      <td>-0.075147</td>\n",
       "      <td>0.029561</td>\n",
       "      <td>0.046691</td>\n",
       "      <td>0.160175</td>\n",
       "      <td>-0.018243</td>\n",
       "      <td>0.069459</td>\n",
       "      <td>-0.053863</td>\n",
       "      <td>1.000000</td>\n",
       "    </tr>\n",
       "  </tbody>\n",
       "</table>\n",
       "</div>"
      ],
      "text/plain": [
       "                                       ID  Transportation expense  \\\n",
       "ID                               1.000000               -0.224163   \n",
       "Transportation expense          -0.224163                1.000000   \n",
       "Distance from Residence to Work -0.486160                0.262183   \n",
       "Service time                    -0.272704               -0.349887   \n",
       "Age                              0.040899               -0.227542   \n",
       "Work load Average/day            0.092457                0.005438   \n",
       "Hit target                       0.018789               -0.080193   \n",
       "Son                              0.002767                0.383001   \n",
       "Weight                          -0.254222               -0.207435   \n",
       "Height                           0.076363               -0.194496   \n",
       "Body mass index                 -0.306924               -0.136517   \n",
       "Absenteeism categories          -0.127380                0.166207   \n",
       "\n",
       "                                 Distance from Residence to Work  \\\n",
       "ID                                                     -0.486160   \n",
       "Transportation expense                                  0.262183   \n",
       "Distance from Residence to Work                         1.000000   \n",
       "Service time                                            0.131730   \n",
       "Age                                                    -0.145886   \n",
       "Work load Average/day                                  -0.068677   \n",
       "Hit target                                             -0.013865   \n",
       "Son                                                     0.054230   \n",
       "Weight                                                 -0.047859   \n",
       "Height                                                 -0.353372   \n",
       "Body mass index                                         0.113772   \n",
       "Absenteeism categories                                  0.019832   \n",
       "\n",
       "                                 Service time       Age  \\\n",
       "ID                                  -0.272704  0.040899   \n",
       "Transportation expense              -0.349887 -0.227542   \n",
       "Distance from Residence to Work      0.131730 -0.145886   \n",
       "Service time                         1.000000  0.670979   \n",
       "Age                                  0.670979  1.000000   \n",
       "Work load Average/day               -0.000668 -0.039425   \n",
       "Hit target                          -0.007840 -0.039224   \n",
       "Son                                 -0.047128  0.056984   \n",
       "Weight                               0.455975  0.418730   \n",
       "Height                              -0.053135 -0.062997   \n",
       "Body mass index                      0.499718  0.470688   \n",
       "Absenteeism categories              -0.058995 -0.075147   \n",
       "\n",
       "                                 Work load Average/day   Hit target       Son  \\\n",
       "ID                                             0.092457    0.018789  0.002767   \n",
       "Transportation expense                         0.005438   -0.080193  0.383001   \n",
       "Distance from Residence to Work               -0.068677   -0.013865  0.054230   \n",
       "Service time                                  -0.000668   -0.007840 -0.047128   \n",
       "Age                                           -0.039425   -0.039224  0.056984   \n",
       "Work load Average/day                          1.000000   -0.089445  0.027820   \n",
       "Hit target                                    -0.089445    1.000000 -0.014091   \n",
       "Son                                            0.027820   -0.014091  1.000000   \n",
       "Weight                                        -0.038522   -0.044947 -0.139552   \n",
       "Height                                         0.103315    0.093267 -0.014208   \n",
       "Body mass index                               -0.090709   -0.088939 -0.144150   \n",
       "Absenteeism categories                         0.029561    0.046691  0.160175   \n",
       "\n",
       "                                   Weight    Height  Body mass index  \\\n",
       "ID                              -0.254222  0.076363        -0.306924   \n",
       "Transportation expense          -0.207435 -0.194496        -0.136517   \n",
       "Distance from Residence to Work -0.047859 -0.353372         0.113772   \n",
       "Service time                     0.455975 -0.053135         0.499718   \n",
       "Age                              0.418730 -0.062997         0.470688   \n",
       "Work load Average/day           -0.038522  0.103315        -0.090709   \n",
       "Hit target                      -0.044947  0.093267        -0.088939   \n",
       "Son                             -0.139552 -0.014208        -0.144150   \n",
       "Weight                           1.000000  0.306802         0.904117   \n",
       "Height                           0.306802  1.000000        -0.121049   \n",
       "Body mass index                  0.904117 -0.121049         1.000000   \n",
       "Absenteeism categories          -0.018243  0.069459        -0.053863   \n",
       "\n",
       "                                 Absenteeism categories  \n",
       "ID                                            -0.127380  \n",
       "Transportation expense                         0.166207  \n",
       "Distance from Residence to Work                0.019832  \n",
       "Service time                                  -0.058995  \n",
       "Age                                           -0.075147  \n",
       "Work load Average/day                          0.029561  \n",
       "Hit target                                     0.046691  \n",
       "Son                                            0.160175  \n",
       "Weight                                        -0.018243  \n",
       "Height                                         0.069459  \n",
       "Body mass index                               -0.053863  \n",
       "Absenteeism categories                         1.000000  "
      ]
     },
     "execution_count": 438,
     "metadata": {},
     "output_type": "execute_result"
    }
   ],
   "source": [
    "df.corr()"
   ]
  },
  {
   "cell_type": "code",
   "execution_count": 439,
   "metadata": {},
   "outputs": [
    {
     "data": {
      "text/plain": [
       "<matplotlib.axes._subplots.AxesSubplot at 0x24bf2ea5548>"
      ]
     },
     "execution_count": 439,
     "metadata": {},
     "output_type": "execute_result"
    },
    {
     "data": {
      "image/png": "[encoded data removed]",
      "text/plain": [
       "<Figure size 864x576 with 2 Axes>"
      ]
     },
     "metadata": {
      "needs_background": "light"
     },
     "output_type": "display_data"
    }
   ],
   "source": [
    "plt.figure(figsize=(12,8))\n",
    "sns.heatmap(df.corr(),annot=True,cmap='coolwarm')"
   ]
  },
  {
   "cell_type": "code",
   "execution_count": 440,
   "metadata": {},
   "outputs": [],
   "source": [
    "df.drop(['ID','Son','Height'],axis=1,inplace=True)"
   ]
  },
  {
   "cell_type": "code",
   "execution_count": 441,
   "metadata": {},
   "outputs": [
    {
     "data": {
      "text/html": [
       "<div>\n",
       "<style scoped>\n",
       "    .dataframe tbody tr th:only-of-type {\n",
       "        vertical-align: middle;\n",
       "    }\n",
       "\n",
       "    .dataframe tbody tr th {\n",
       "        vertical-align: top;\n",
       "    }\n",
       "\n",
       "    .dataframe thead th {\n",
       "        text-align: right;\n",
       "    }\n",
       "</style>\n",
       "<table border=\"1\" class=\"dataframe\">\n",
       "  <thead>\n",
       "    <tr style=\"text-align: right;\">\n",
       "      <th></th>\n",
       "      <th>Reason for absence</th>\n",
       "      <th>Month of absence</th>\n",
       "      <th>Day of the week</th>\n",
       "      <th>Seasons</th>\n",
       "      <th>Transportation expense</th>\n",
       "      <th>Distance from Residence to Work</th>\n",
       "      <th>Service time</th>\n",
       "      <th>Age</th>\n",
       "      <th>Work load Average/day</th>\n",
       "      <th>Hit target</th>\n",
       "      <th>Disciplinary failure</th>\n",
       "      <th>Education</th>\n",
       "      <th>Social drinker</th>\n",
       "      <th>Social smoker</th>\n",
       "      <th>Pet</th>\n",
       "      <th>Weight</th>\n",
       "      <th>Body mass index</th>\n",
       "      <th>followUp_req</th>\n",
       "      <th>Absenteeism categories</th>\n",
       "    </tr>\n",
       "  </thead>\n",
       "  <tbody>\n",
       "    <tr>\n",
       "      <th>0</th>\n",
       "      <td>26</td>\n",
       "      <td>7</td>\n",
       "      <td>3</td>\n",
       "      <td>1</td>\n",
       "      <td>289</td>\n",
       "      <td>36</td>\n",
       "      <td>13</td>\n",
       "      <td>33</td>\n",
       "      <td>239554</td>\n",
       "      <td>97</td>\n",
       "      <td>0</td>\n",
       "      <td>1</td>\n",
       "      <td>1</td>\n",
       "      <td>0</td>\n",
       "      <td>1</td>\n",
       "      <td>90</td>\n",
       "      <td>30</td>\n",
       "      <td>0</td>\n",
       "      <td>4</td>\n",
       "    </tr>\n",
       "    <tr>\n",
       "      <th>1</th>\n",
       "      <td>0</td>\n",
       "      <td>7</td>\n",
       "      <td>3</td>\n",
       "      <td>1</td>\n",
       "      <td>118</td>\n",
       "      <td>13</td>\n",
       "      <td>18</td>\n",
       "      <td>50</td>\n",
       "      <td>239554</td>\n",
       "      <td>97</td>\n",
       "      <td>1</td>\n",
       "      <td>1</td>\n",
       "      <td>1</td>\n",
       "      <td>0</td>\n",
       "      <td>0</td>\n",
       "      <td>98</td>\n",
       "      <td>31</td>\n",
       "      <td>1</td>\n",
       "      <td>0</td>\n",
       "    </tr>\n",
       "    <tr>\n",
       "      <th>2</th>\n",
       "      <td>23</td>\n",
       "      <td>7</td>\n",
       "      <td>4</td>\n",
       "      <td>1</td>\n",
       "      <td>179</td>\n",
       "      <td>51</td>\n",
       "      <td>18</td>\n",
       "      <td>38</td>\n",
       "      <td>239554</td>\n",
       "      <td>97</td>\n",
       "      <td>0</td>\n",
       "      <td>1</td>\n",
       "      <td>1</td>\n",
       "      <td>0</td>\n",
       "      <td>0</td>\n",
       "      <td>89</td>\n",
       "      <td>31</td>\n",
       "      <td>0</td>\n",
       "      <td>2</td>\n",
       "    </tr>\n",
       "    <tr>\n",
       "      <th>3</th>\n",
       "      <td>7</td>\n",
       "      <td>7</td>\n",
       "      <td>5</td>\n",
       "      <td>1</td>\n",
       "      <td>279</td>\n",
       "      <td>5</td>\n",
       "      <td>14</td>\n",
       "      <td>39</td>\n",
       "      <td>239554</td>\n",
       "      <td>97</td>\n",
       "      <td>0</td>\n",
       "      <td>1</td>\n",
       "      <td>1</td>\n",
       "      <td>1</td>\n",
       "      <td>0</td>\n",
       "      <td>68</td>\n",
       "      <td>24</td>\n",
       "      <td>1</td>\n",
       "      <td>4</td>\n",
       "    </tr>\n",
       "    <tr>\n",
       "      <th>4</th>\n",
       "      <td>23</td>\n",
       "      <td>7</td>\n",
       "      <td>5</td>\n",
       "      <td>1</td>\n",
       "      <td>289</td>\n",
       "      <td>36</td>\n",
       "      <td>13</td>\n",
       "      <td>33</td>\n",
       "      <td>239554</td>\n",
       "      <td>97</td>\n",
       "      <td>0</td>\n",
       "      <td>1</td>\n",
       "      <td>1</td>\n",
       "      <td>0</td>\n",
       "      <td>1</td>\n",
       "      <td>90</td>\n",
       "      <td>30</td>\n",
       "      <td>0</td>\n",
       "      <td>2</td>\n",
       "    </tr>\n",
       "  </tbody>\n",
       "</table>\n",
       "</div>"
      ],
      "text/plain": [
       "  Reason for absence Month of absence Day of the week Seasons  \\\n",
       "0                 26                7               3       1   \n",
       "1                  0                7               3       1   \n",
       "2                 23                7               4       1   \n",
       "3                  7                7               5       1   \n",
       "4                 23                7               5       1   \n",
       "\n",
       "   Transportation expense  Distance from Residence to Work  Service time  Age  \\\n",
       "0                     289                               36            13   33   \n",
       "1                     118                               13            18   50   \n",
       "2                     179                               51            18   38   \n",
       "3                     279                                5            14   39   \n",
       "4                     289                               36            13   33   \n",
       "\n",
       "   Work load Average/day   Hit target Disciplinary failure Education  \\\n",
       "0                  239554          97                    0         1   \n",
       "1                  239554          97                    1         1   \n",
       "2                  239554          97                    0         1   \n",
       "3                  239554          97                    0         1   \n",
       "4                  239554          97                    0         1   \n",
       "\n",
       "  Social drinker Social smoker Pet  Weight  Body mass index followUp_req  \\\n",
       "0              1             0   1      90               30            0   \n",
       "1              1             0   0      98               31            1   \n",
       "2              1             0   0      89               31            0   \n",
       "3              1             1   0      68               24            1   \n",
       "4              1             0   1      90               30            0   \n",
       "\n",
       "   Absenteeism categories  \n",
       "0                       4  \n",
       "1                       0  \n",
       "2                       2  \n",
       "3                       4  \n",
       "4                       2  "
      ]
     },
     "execution_count": 441,
     "metadata": {},
     "output_type": "execute_result"
    }
   ],
   "source": [
    "df.head()"
   ]
  },
  {
   "cell_type": "code",
   "execution_count": 443,
   "metadata": {},
   "outputs": [],
   "source": [
    "df.drop('Month of absence',axis=1,inplace=True)"
   ]
  },
  {
   "cell_type": "code",
   "execution_count": 444,
   "metadata": {},
   "outputs": [
    {
     "data": {
      "text/html": [
       "<div>\n",
       "<style scoped>\n",
       "    .dataframe tbody tr th:only-of-type {\n",
       "        vertical-align: middle;\n",
       "    }\n",
       "\n",
       "    .dataframe tbody tr th {\n",
       "        vertical-align: top;\n",
       "    }\n",
       "\n",
       "    .dataframe thead th {\n",
       "        text-align: right;\n",
       "    }\n",
       "</style>\n",
       "<table border=\"1\" class=\"dataframe\">\n",
       "  <thead>\n",
       "    <tr style=\"text-align: right;\">\n",
       "      <th></th>\n",
       "      <th>Reason for absence</th>\n",
       "      <th>Day of the week</th>\n",
       "      <th>Seasons</th>\n",
       "      <th>Transportation expense</th>\n",
       "      <th>Distance from Residence to Work</th>\n",
       "      <th>Service time</th>\n",
       "      <th>Age</th>\n",
       "      <th>Work load Average/day</th>\n",
       "      <th>Hit target</th>\n",
       "      <th>Disciplinary failure</th>\n",
       "      <th>Education</th>\n",
       "      <th>Social drinker</th>\n",
       "      <th>Social smoker</th>\n",
       "      <th>Pet</th>\n",
       "      <th>Weight</th>\n",
       "      <th>Body mass index</th>\n",
       "      <th>followUp_req</th>\n",
       "      <th>Absenteeism categories</th>\n",
       "    </tr>\n",
       "  </thead>\n",
       "  <tbody>\n",
       "    <tr>\n",
       "      <th>0</th>\n",
       "      <td>26</td>\n",
       "      <td>3</td>\n",
       "      <td>1</td>\n",
       "      <td>289</td>\n",
       "      <td>36</td>\n",
       "      <td>13</td>\n",
       "      <td>33</td>\n",
       "      <td>239554</td>\n",
       "      <td>97</td>\n",
       "      <td>0</td>\n",
       "      <td>1</td>\n",
       "      <td>1</td>\n",
       "      <td>0</td>\n",
       "      <td>1</td>\n",
       "      <td>90</td>\n",
       "      <td>30</td>\n",
       "      <td>0</td>\n",
       "      <td>4</td>\n",
       "    </tr>\n",
       "    <tr>\n",
       "      <th>1</th>\n",
       "      <td>0</td>\n",
       "      <td>3</td>\n",
       "      <td>1</td>\n",
       "      <td>118</td>\n",
       "      <td>13</td>\n",
       "      <td>18</td>\n",
       "      <td>50</td>\n",
       "      <td>239554</td>\n",
       "      <td>97</td>\n",
       "      <td>1</td>\n",
       "      <td>1</td>\n",
       "      <td>1</td>\n",
       "      <td>0</td>\n",
       "      <td>0</td>\n",
       "      <td>98</td>\n",
       "      <td>31</td>\n",
       "      <td>1</td>\n",
       "      <td>0</td>\n",
       "    </tr>\n",
       "    <tr>\n",
       "      <th>2</th>\n",
       "      <td>23</td>\n",
       "      <td>4</td>\n",
       "      <td>1</td>\n",
       "      <td>179</td>\n",
       "      <td>51</td>\n",
       "      <td>18</td>\n",
       "      <td>38</td>\n",
       "      <td>239554</td>\n",
       "      <td>97</td>\n",
       "      <td>0</td>\n",
       "      <td>1</td>\n",
       "      <td>1</td>\n",
       "      <td>0</td>\n",
       "      <td>0</td>\n",
       "      <td>89</td>\n",
       "      <td>31</td>\n",
       "      <td>0</td>\n",
       "      <td>2</td>\n",
       "    </tr>\n",
       "    <tr>\n",
       "      <th>3</th>\n",
       "      <td>7</td>\n",
       "      <td>5</td>\n",
       "      <td>1</td>\n",
       "      <td>279</td>\n",
       "      <td>5</td>\n",
       "      <td>14</td>\n",
       "      <td>39</td>\n",
       "      <td>239554</td>\n",
       "      <td>97</td>\n",
       "      <td>0</td>\n",
       "      <td>1</td>\n",
       "      <td>1</td>\n",
       "      <td>1</td>\n",
       "      <td>0</td>\n",
       "      <td>68</td>\n",
       "      <td>24</td>\n",
       "      <td>1</td>\n",
       "      <td>4</td>\n",
       "    </tr>\n",
       "    <tr>\n",
       "      <th>4</th>\n",
       "      <td>23</td>\n",
       "      <td>5</td>\n",
       "      <td>1</td>\n",
       "      <td>289</td>\n",
       "      <td>36</td>\n",
       "      <td>13</td>\n",
       "      <td>33</td>\n",
       "      <td>239554</td>\n",
       "      <td>97</td>\n",
       "      <td>0</td>\n",
       "      <td>1</td>\n",
       "      <td>1</td>\n",
       "      <td>0</td>\n",
       "      <td>1</td>\n",
       "      <td>90</td>\n",
       "      <td>30</td>\n",
       "      <td>0</td>\n",
       "      <td>2</td>\n",
       "    </tr>\n",
       "  </tbody>\n",
       "</table>\n",
       "</div>"
      ],
      "text/plain": [
       "  Reason for absence Day of the week Seasons  Transportation expense  \\\n",
       "0                 26               3       1                     289   \n",
       "1                  0               3       1                     118   \n",
       "2                 23               4       1                     179   \n",
       "3                  7               5       1                     279   \n",
       "4                 23               5       1                     289   \n",
       "\n",
       "   Distance from Residence to Work  Service time  Age  Work load Average/day   \\\n",
       "0                               36            13   33                  239554   \n",
       "1                               13            18   50                  239554   \n",
       "2                               51            18   38                  239554   \n",
       "3                                5            14   39                  239554   \n",
       "4                               36            13   33                  239554   \n",
       "\n",
       "   Hit target Disciplinary failure Education Social drinker Social smoker Pet  \\\n",
       "0          97                    0         1              1             0   1   \n",
       "1          97                    1         1              1             0   0   \n",
       "2          97                    0         1              1             0   0   \n",
       "3          97                    0         1              1             1   0   \n",
       "4          97                    0         1              1             0   1   \n",
       "\n",
       "   Weight  Body mass index followUp_req  Absenteeism categories  \n",
       "0      90               30            0                       4  \n",
       "1      98               31            1                       0  \n",
       "2      89               31            0                       2  \n",
       "3      68               24            1                       4  \n",
       "4      90               30            0                       2  "
      ]
     },
     "execution_count": 444,
     "metadata": {},
     "output_type": "execute_result"
    }
   ],
   "source": [
    "df.head()"
   ]
  },
  {
   "cell_type": "code",
   "execution_count": 447,
   "metadata": {},
   "outputs": [
    {
     "data": {
      "text/plain": [
       "Index(['Reason for absence', 'Day of the week', 'Seasons',\n",
       "       'Transportation expense', 'Distance from Residence to Work',\n",
       "       'Service time', 'Age', 'Work load Average/day ', 'Hit target',\n",
       "       'Disciplinary failure', 'Education', 'Social drinker', 'Social smoker',\n",
       "       'Pet', 'Weight', 'Body mass index', 'followUp_req',\n",
       "       'Absenteeism categories'],\n",
       "      dtype='object')"
      ]
     },
     "execution_count": 447,
     "metadata": {},
     "output_type": "execute_result"
    }
   ],
   "source": [
    "df.columns"
   ]
  },
  {
   "cell_type": "code",
   "execution_count": 448,
   "metadata": {},
   "outputs": [],
   "source": [
    "from sklearn.preprocessing import StandardScaler\n",
    "sc=StandardScaler()"
   ]
  },
  {
   "cell_type": "code",
   "execution_count": 449,
   "metadata": {},
   "outputs": [],
   "source": [
    "X = sc.fit_transform(df.drop(columns=['Absenteeism categories'], axis=1))\n",
    "y = df['Absenteeism categories']"
   ]
  },
  {
   "cell_type": "code",
   "execution_count": 465,
   "metadata": {},
   "outputs": [],
   "source": [
    "from sklearn.model_selection import train_test_split\n",
    "X_train, X_test, y_train, y_test = train_test_split(X, y, test_size=0.3, random_state=45)"
   ]
  },
  {
   "cell_type": "code",
   "execution_count": 466,
   "metadata": {},
   "outputs": [],
   "source": [
    "from sklearn.svm import SVC\n",
    "from sklearn.tree import DecisionTreeClassifier\n",
    "from sklearn.metrics import accuracy_score,confusion_matrix,classification_report"
   ]
  },
  {
   "cell_type": "code",
   "execution_count": 473,
   "metadata": {},
   "outputs": [
    {
     "name": "stdout",
     "output_type": "stream",
     "text": [
      "0.5045045045045045\n",
      "[[11  0  0  0  0  2  0]\n",
      " [ 0  5 14  2  1  7  0]\n",
      " [ 0  2 38  2  0 11  0]\n",
      " [ 0  3 14  5  0  5  1]\n",
      " [ 0  2  8  4  2  4  0]\n",
      " [ 0  0  4  2  2 49  2]\n",
      " [ 0  0  2  1  0 15  2]]\n",
      "              precision    recall  f1-score   support\n",
      "\n",
      "           0       1.00      0.85      0.92        13\n",
      "           1       0.42      0.17      0.24        29\n",
      "           2       0.47      0.72      0.57        53\n",
      "           3       0.31      0.18      0.23        28\n",
      "           4       0.40      0.10      0.16        20\n",
      "           5       0.53      0.83      0.64        59\n",
      "           6       0.40      0.10      0.16        20\n",
      "\n",
      "    accuracy                           0.50       222\n",
      "   macro avg       0.50      0.42      0.42       222\n",
      "weighted avg       0.48      0.50      0.45       222\n",
      "\n"
     ]
    }
   ],
   "source": [
    "sv=SVC()\n",
    "sv.fit(X_train,y_train)\n",
    "sv.score(X_train,y_train)\n",
    "predsv=sv.predict(X_test)\n",
    "print(accuracy_score(y_test,predsv))\n",
    "print(confusion_matrix(y_test,predsv))\n",
    "print(classification_report(y_test,predsv))"
   ]
  },
  {
   "cell_type": "code",
   "execution_count": 474,
   "metadata": {},
   "outputs": [
    {
     "name": "stdout",
     "output_type": "stream",
     "text": [
      "0.4144144144144144\n",
      "[[13  0  0  0  0  0  0]\n",
      " [ 0  8  7  4  3  5  2]\n",
      " [ 1 10 21  7  3  9  2]\n",
      " [ 0  4  6 12  2  2  2]\n",
      " [ 0  2  3  7  4  3  1]\n",
      " [ 0  2  6  9  7 29  6]\n",
      " [ 0  0  1  3  1 10  5]]\n",
      "              precision    recall  f1-score   support\n",
      "\n",
      "           0       0.93      1.00      0.96        13\n",
      "           1       0.31      0.28      0.29        29\n",
      "           2       0.48      0.40      0.43        53\n",
      "           3       0.29      0.43      0.34        28\n",
      "           4       0.20      0.20      0.20        20\n",
      "           5       0.50      0.49      0.50        59\n",
      "           6       0.28      0.25      0.26        20\n",
      "\n",
      "    accuracy                           0.41       222\n",
      "   macro avg       0.43      0.43      0.43       222\n",
      "weighted avg       0.42      0.41      0.41       222\n",
      "\n"
     ]
    }
   ],
   "source": [
    "dt=DecisionTreeClassifier()\n",
    "dt.fit(X_train,y_train)\n",
    "dt.score(X_train,y_train)\n",
    "preddt=dt.predict(X_test)\n",
    "print(accuracy_score(y_test,preddt))\n",
    "print(confusion_matrix(y_test,preddt))\n",
    "print(classification_report(y_test,preddt))"
   ]
  },
  {
   "cell_type": "code",
   "execution_count": 461,
   "metadata": {},
   "outputs": [
    {
     "data": {
      "text/html": [
       "<div>\n",
       "<style scoped>\n",
       "    .dataframe tbody tr th:only-of-type {\n",
       "        vertical-align: middle;\n",
       "    }\n",
       "\n",
       "    .dataframe tbody tr th {\n",
       "        vertical-align: top;\n",
       "    }\n",
       "\n",
       "    .dataframe thead th {\n",
       "        text-align: right;\n",
       "    }\n",
       "</style>\n",
       "<table border=\"1\" class=\"dataframe\">\n",
       "  <thead>\n",
       "    <tr style=\"text-align: right;\">\n",
       "      <th></th>\n",
       "      <th>Transportation expense</th>\n",
       "      <th>Distance from Residence to Work</th>\n",
       "      <th>Service time</th>\n",
       "      <th>Age</th>\n",
       "      <th>Work load Average/day</th>\n",
       "      <th>Hit target</th>\n",
       "      <th>Weight</th>\n",
       "      <th>Body mass index</th>\n",
       "      <th>Absenteeism categories</th>\n",
       "    </tr>\n",
       "  </thead>\n",
       "  <tbody>\n",
       "    <tr>\n",
       "      <th>Transportation expense</th>\n",
       "      <td>1.000000</td>\n",
       "      <td>0.262183</td>\n",
       "      <td>-0.349887</td>\n",
       "      <td>-0.227542</td>\n",
       "      <td>0.005438</td>\n",
       "      <td>-0.080193</td>\n",
       "      <td>-0.207435</td>\n",
       "      <td>-0.136517</td>\n",
       "      <td>0.166207</td>\n",
       "    </tr>\n",
       "    <tr>\n",
       "      <th>Distance from Residence to Work</th>\n",
       "      <td>0.262183</td>\n",
       "      <td>1.000000</td>\n",
       "      <td>0.131730</td>\n",
       "      <td>-0.145886</td>\n",
       "      <td>-0.068677</td>\n",
       "      <td>-0.013865</td>\n",
       "      <td>-0.047859</td>\n",
       "      <td>0.113772</td>\n",
       "      <td>0.019832</td>\n",
       "    </tr>\n",
       "    <tr>\n",
       "      <th>Service time</th>\n",
       "      <td>-0.349887</td>\n",
       "      <td>0.131730</td>\n",
       "      <td>1.000000</td>\n",
       "      <td>0.670979</td>\n",
       "      <td>-0.000668</td>\n",
       "      <td>-0.007840</td>\n",
       "      <td>0.455975</td>\n",
       "      <td>0.499718</td>\n",
       "      <td>-0.058995</td>\n",
       "    </tr>\n",
       "    <tr>\n",
       "      <th>Age</th>\n",
       "      <td>-0.227542</td>\n",
       "      <td>-0.145886</td>\n",
       "      <td>0.670979</td>\n",
       "      <td>1.000000</td>\n",
       "      <td>-0.039425</td>\n",
       "      <td>-0.039224</td>\n",
       "      <td>0.418730</td>\n",
       "      <td>0.470688</td>\n",
       "      <td>-0.075147</td>\n",
       "    </tr>\n",
       "    <tr>\n",
       "      <th>Work load Average/day</th>\n",
       "      <td>0.005438</td>\n",
       "      <td>-0.068677</td>\n",
       "      <td>-0.000668</td>\n",
       "      <td>-0.039425</td>\n",
       "      <td>1.000000</td>\n",
       "      <td>-0.089445</td>\n",
       "      <td>-0.038522</td>\n",
       "      <td>-0.090709</td>\n",
       "      <td>0.029561</td>\n",
       "    </tr>\n",
       "    <tr>\n",
       "      <th>Hit target</th>\n",
       "      <td>-0.080193</td>\n",
       "      <td>-0.013865</td>\n",
       "      <td>-0.007840</td>\n",
       "      <td>-0.039224</td>\n",
       "      <td>-0.089445</td>\n",
       "      <td>1.000000</td>\n",
       "      <td>-0.044947</td>\n",
       "      <td>-0.088939</td>\n",
       "      <td>0.046691</td>\n",
       "    </tr>\n",
       "    <tr>\n",
       "      <th>Weight</th>\n",
       "      <td>-0.207435</td>\n",
       "      <td>-0.047859</td>\n",
       "      <td>0.455975</td>\n",
       "      <td>0.418730</td>\n",
       "      <td>-0.038522</td>\n",
       "      <td>-0.044947</td>\n",
       "      <td>1.000000</td>\n",
       "      <td>0.904117</td>\n",
       "      <td>-0.018243</td>\n",
       "    </tr>\n",
       "    <tr>\n",
       "      <th>Body mass index</th>\n",
       "      <td>-0.136517</td>\n",
       "      <td>0.113772</td>\n",
       "      <td>0.499718</td>\n",
       "      <td>0.470688</td>\n",
       "      <td>-0.090709</td>\n",
       "      <td>-0.088939</td>\n",
       "      <td>0.904117</td>\n",
       "      <td>1.000000</td>\n",
       "      <td>-0.053863</td>\n",
       "    </tr>\n",
       "    <tr>\n",
       "      <th>Absenteeism categories</th>\n",
       "      <td>0.166207</td>\n",
       "      <td>0.019832</td>\n",
       "      <td>-0.058995</td>\n",
       "      <td>-0.075147</td>\n",
       "      <td>0.029561</td>\n",
       "      <td>0.046691</td>\n",
       "      <td>-0.018243</td>\n",
       "      <td>-0.053863</td>\n",
       "      <td>1.000000</td>\n",
       "    </tr>\n",
       "  </tbody>\n",
       "</table>\n",
       "</div>"
      ],
      "text/plain": [
       "                                 Transportation expense  \\\n",
       "Transportation expense                         1.000000   \n",
       "Distance from Residence to Work                0.262183   \n",
       "Service time                                  -0.349887   \n",
       "Age                                           -0.227542   \n",
       "Work load Average/day                          0.005438   \n",
       "Hit target                                    -0.080193   \n",
       "Weight                                        -0.207435   \n",
       "Body mass index                               -0.136517   \n",
       "Absenteeism categories                         0.166207   \n",
       "\n",
       "                                 Distance from Residence to Work  \\\n",
       "Transportation expense                                  0.262183   \n",
       "Distance from Residence to Work                         1.000000   \n",
       "Service time                                            0.131730   \n",
       "Age                                                    -0.145886   \n",
       "Work load Average/day                                  -0.068677   \n",
       "Hit target                                             -0.013865   \n",
       "Weight                                                 -0.047859   \n",
       "Body mass index                                         0.113772   \n",
       "Absenteeism categories                                  0.019832   \n",
       "\n",
       "                                 Service time       Age  \\\n",
       "Transportation expense              -0.349887 -0.227542   \n",
       "Distance from Residence to Work      0.131730 -0.145886   \n",
       "Service time                         1.000000  0.670979   \n",
       "Age                                  0.670979  1.000000   \n",
       "Work load Average/day               -0.000668 -0.039425   \n",
       "Hit target                          -0.007840 -0.039224   \n",
       "Weight                               0.455975  0.418730   \n",
       "Body mass index                      0.499718  0.470688   \n",
       "Absenteeism categories              -0.058995 -0.075147   \n",
       "\n",
       "                                 Work load Average/day   Hit target    Weight  \\\n",
       "Transportation expense                         0.005438   -0.080193 -0.207435   \n",
       "Distance from Residence to Work               -0.068677   -0.013865 -0.047859   \n",
       "Service time                                  -0.000668   -0.007840  0.455975   \n",
       "Age                                           -0.039425   -0.039224  0.418730   \n",
       "Work load Average/day                          1.000000   -0.089445 -0.038522   \n",
       "Hit target                                    -0.089445    1.000000 -0.044947   \n",
       "Weight                                        -0.038522   -0.044947  1.000000   \n",
       "Body mass index                               -0.090709   -0.088939  0.904117   \n",
       "Absenteeism categories                         0.029561    0.046691 -0.018243   \n",
       "\n",
       "                                 Body mass index  Absenteeism categories  \n",
       "Transportation expense                 -0.136517                0.166207  \n",
       "Distance from Residence to Work         0.113772                0.019832  \n",
       "Service time                            0.499718               -0.058995  \n",
       "Age                                     0.470688               -0.075147  \n",
       "Work load Average/day                  -0.090709                0.029561  \n",
       "Hit target                             -0.088939                0.046691  \n",
       "Weight                                  0.904117               -0.018243  \n",
       "Body mass index                         1.000000               -0.053863  \n",
       "Absenteeism categories                 -0.053863                1.000000  "
      ]
     },
     "execution_count": 461,
     "metadata": {},
     "output_type": "execute_result"
    }
   ],
   "source": [
    "df.corr()"
   ]
  },
  {
   "cell_type": "code",
   "execution_count": 455,
   "metadata": {},
   "outputs": [
    {
     "data": {
      "text/html": [
       "<div>\n",
       "<style scoped>\n",
       "    .dataframe tbody tr th:only-of-type {\n",
       "        vertical-align: middle;\n",
       "    }\n",
       "\n",
       "    .dataframe tbody tr th {\n",
       "        vertical-align: top;\n",
       "    }\n",
       "\n",
       "    .dataframe thead th {\n",
       "        text-align: right;\n",
       "    }\n",
       "</style>\n",
       "<table border=\"1\" class=\"dataframe\">\n",
       "  <thead>\n",
       "    <tr style=\"text-align: right;\">\n",
       "      <th></th>\n",
       "      <th>Transportation expense</th>\n",
       "      <th>Distance from Residence to Work</th>\n",
       "      <th>Service time</th>\n",
       "      <th>Age</th>\n",
       "      <th>Work load Average/day</th>\n",
       "      <th>Hit target</th>\n",
       "      <th>Weight</th>\n",
       "      <th>Body mass index</th>\n",
       "      <th>Absenteeism categories</th>\n",
       "    </tr>\n",
       "  </thead>\n",
       "  <tbody>\n",
       "    <tr>\n",
       "      <th>Transportation expense</th>\n",
       "      <td>1.000000</td>\n",
       "      <td>0.262183</td>\n",
       "      <td>-0.349887</td>\n",
       "      <td>-0.227542</td>\n",
       "      <td>0.005438</td>\n",
       "      <td>-0.080193</td>\n",
       "      <td>-0.207435</td>\n",
       "      <td>-0.136517</td>\n",
       "      <td>0.166207</td>\n",
       "    </tr>\n",
       "    <tr>\n",
       "      <th>Distance from Residence to Work</th>\n",
       "      <td>0.262183</td>\n",
       "      <td>1.000000</td>\n",
       "      <td>0.131730</td>\n",
       "      <td>-0.145886</td>\n",
       "      <td>-0.068677</td>\n",
       "      <td>-0.013865</td>\n",
       "      <td>-0.047859</td>\n",
       "      <td>0.113772</td>\n",
       "      <td>0.019832</td>\n",
       "    </tr>\n",
       "    <tr>\n",
       "      <th>Service time</th>\n",
       "      <td>-0.349887</td>\n",
       "      <td>0.131730</td>\n",
       "      <td>1.000000</td>\n",
       "      <td>0.670979</td>\n",
       "      <td>-0.000668</td>\n",
       "      <td>-0.007840</td>\n",
       "      <td>0.455975</td>\n",
       "      <td>0.499718</td>\n",
       "      <td>-0.058995</td>\n",
       "    </tr>\n",
       "    <tr>\n",
       "      <th>Age</th>\n",
       "      <td>-0.227542</td>\n",
       "      <td>-0.145886</td>\n",
       "      <td>0.670979</td>\n",
       "      <td>1.000000</td>\n",
       "      <td>-0.039425</td>\n",
       "      <td>-0.039224</td>\n",
       "      <td>0.418730</td>\n",
       "      <td>0.470688</td>\n",
       "      <td>-0.075147</td>\n",
       "    </tr>\n",
       "    <tr>\n",
       "      <th>Work load Average/day</th>\n",
       "      <td>0.005438</td>\n",
       "      <td>-0.068677</td>\n",
       "      <td>-0.000668</td>\n",
       "      <td>-0.039425</td>\n",
       "      <td>1.000000</td>\n",
       "      <td>-0.089445</td>\n",
       "      <td>-0.038522</td>\n",
       "      <td>-0.090709</td>\n",
       "      <td>0.029561</td>\n",
       "    </tr>\n",
       "    <tr>\n",
       "      <th>Hit target</th>\n",
       "      <td>-0.080193</td>\n",
       "      <td>-0.013865</td>\n",
       "      <td>-0.007840</td>\n",
       "      <td>-0.039224</td>\n",
       "      <td>-0.089445</td>\n",
       "      <td>1.000000</td>\n",
       "      <td>-0.044947</td>\n",
       "      <td>-0.088939</td>\n",
       "      <td>0.046691</td>\n",
       "    </tr>\n",
       "    <tr>\n",
       "      <th>Weight</th>\n",
       "      <td>-0.207435</td>\n",
       "      <td>-0.047859</td>\n",
       "      <td>0.455975</td>\n",
       "      <td>0.418730</td>\n",
       "      <td>-0.038522</td>\n",
       "      <td>-0.044947</td>\n",
       "      <td>1.000000</td>\n",
       "      <td>0.904117</td>\n",
       "      <td>-0.018243</td>\n",
       "    </tr>\n",
       "    <tr>\n",
       "      <th>Body mass index</th>\n",
       "      <td>-0.136517</td>\n",
       "      <td>0.113772</td>\n",
       "      <td>0.499718</td>\n",
       "      <td>0.470688</td>\n",
       "      <td>-0.090709</td>\n",
       "      <td>-0.088939</td>\n",
       "      <td>0.904117</td>\n",
       "      <td>1.000000</td>\n",
       "      <td>-0.053863</td>\n",
       "    </tr>\n",
       "    <tr>\n",
       "      <th>Absenteeism categories</th>\n",
       "      <td>0.166207</td>\n",
       "      <td>0.019832</td>\n",
       "      <td>-0.058995</td>\n",
       "      <td>-0.075147</td>\n",
       "      <td>0.029561</td>\n",
       "      <td>0.046691</td>\n",
       "      <td>-0.018243</td>\n",
       "      <td>-0.053863</td>\n",
       "      <td>1.000000</td>\n",
       "    </tr>\n",
       "  </tbody>\n",
       "</table>\n",
       "</div>"
      ],
      "text/plain": [
       "                                 Transportation expense  \\\n",
       "Transportation expense                         1.000000   \n",
       "Distance from Residence to Work                0.262183   \n",
       "Service time                                  -0.349887   \n",
       "Age                                           -0.227542   \n",
       "Work load Average/day                          0.005438   \n",
       "Hit target                                    -0.080193   \n",
       "Weight                                        -0.207435   \n",
       "Body mass index                               -0.136517   \n",
       "Absenteeism categories                         0.166207   \n",
       "\n",
       "                                 Distance from Residence to Work  \\\n",
       "Transportation expense                                  0.262183   \n",
       "Distance from Residence to Work                         1.000000   \n",
       "Service time                                            0.131730   \n",
       "Age                                                    -0.145886   \n",
       "Work load Average/day                                  -0.068677   \n",
       "Hit target                                             -0.013865   \n",
       "Weight                                                 -0.047859   \n",
       "Body mass index                                         0.113772   \n",
       "Absenteeism categories                                  0.019832   \n",
       "\n",
       "                                 Service time       Age  \\\n",
       "Transportation expense              -0.349887 -0.227542   \n",
       "Distance from Residence to Work      0.131730 -0.145886   \n",
       "Service time                         1.000000  0.670979   \n",
       "Age                                  0.670979  1.000000   \n",
       "Work load Average/day               -0.000668 -0.039425   \n",
       "Hit target                          -0.007840 -0.039224   \n",
       "Weight                               0.455975  0.418730   \n",
       "Body mass index                      0.499718  0.470688   \n",
       "Absenteeism categories              -0.058995 -0.075147   \n",
       "\n",
       "                                 Work load Average/day   Hit target    Weight  \\\n",
       "Transportation expense                         0.005438   -0.080193 -0.207435   \n",
       "Distance from Residence to Work               -0.068677   -0.013865 -0.047859   \n",
       "Service time                                  -0.000668   -0.007840  0.455975   \n",
       "Age                                           -0.039425   -0.039224  0.418730   \n",
       "Work load Average/day                          1.000000   -0.089445 -0.038522   \n",
       "Hit target                                    -0.089445    1.000000 -0.044947   \n",
       "Weight                                        -0.038522   -0.044947  1.000000   \n",
       "Body mass index                               -0.090709   -0.088939  0.904117   \n",
       "Absenteeism categories                         0.029561    0.046691 -0.018243   \n",
       "\n",
       "                                 Body mass index  Absenteeism categories  \n",
       "Transportation expense                 -0.136517                0.166207  \n",
       "Distance from Residence to Work         0.113772                0.019832  \n",
       "Service time                            0.499718               -0.058995  \n",
       "Age                                     0.470688               -0.075147  \n",
       "Work load Average/day                  -0.090709                0.029561  \n",
       "Hit target                             -0.088939                0.046691  \n",
       "Weight                                  0.904117               -0.018243  \n",
       "Body mass index                         1.000000               -0.053863  \n",
       "Absenteeism categories                 -0.053863                1.000000  "
      ]
     },
     "execution_count": 455,
     "metadata": {},
     "output_type": "execute_result"
    }
   ],
   "source": [
    "df.corr()"
   ]
  },
  {
   "cell_type": "code",
   "execution_count": 456,
   "metadata": {},
   "outputs": [
    {
     "data": {
      "text/plain": [
       "<matplotlib.axes._subplots.AxesSubplot at 0x24bf4465848>"
      ]
     },
     "execution_count": 456,
     "metadata": {},
     "output_type": "execute_result"
    },
    {
     "data": {
      "image/png": "[encoded data removed]",
      "text/plain": [
       "<Figure size 864x720 with 2 Axes>"
      ]
     },
     "metadata": {
      "needs_background": "light"
     },
     "output_type": "display_data"
    }
   ],
   "source": []
  },
  {
   "cell_type": "code",
   "execution_count": 470,
   "metadata": {},
   "outputs": [],
   "source": [
    "from sklearn.ensemble import RandomForestClassifier\n"
   ]
  },
  {
   "cell_type": "code",
   "execution_count": 476,
   "metadata": {},
   "outputs": [
    {
     "name": "stdout",
     "output_type": "stream",
     "text": [
      "0.4864864864864865\n",
      "[[12  0  0  0  0  1  0]\n",
      " [ 0 11  7  2  2  7  0]\n",
      " [ 0  6 28  7  3  9  0]\n",
      " [ 0  4  7  9  2  3  3]\n",
      " [ 0  2  2  5  6  5  0]\n",
      " [ 0  3  4  5  5 39  3]\n",
      " [ 0  2  0  2  1 12  3]]\n",
      "              precision    recall  f1-score   support\n",
      "\n",
      "           0       1.00      0.92      0.96        13\n",
      "           1       0.39      0.38      0.39        29\n",
      "           2       0.58      0.53      0.55        53\n",
      "           3       0.30      0.32      0.31        28\n",
      "           4       0.32      0.30      0.31        20\n",
      "           5       0.51      0.66      0.58        59\n",
      "           6       0.33      0.15      0.21        20\n",
      "\n",
      "    accuracy                           0.49       222\n",
      "   macro avg       0.49      0.47      0.47       222\n",
      "weighted avg       0.48      0.49      0.48       222\n",
      "\n"
     ]
    }
   ],
   "source": [
    "RFC=RandomForestClassifier()\n",
    "RFC.fit(X_train,y_train)\n",
    "RFC.score(X_train,y_train)\n",
    "predRFC=RFC.predict(X_test)\n",
    "print(accuracy_score(y_test,predRFC))\n",
    "print(confusion_matrix(y_test,predRFC))\n",
    "print(classification_report(y_test,predRFC))"
   ]
  },
  {
   "cell_type": "code",
   "execution_count": null,
   "metadata": {},
   "outputs": [],
   "source": []
  },
  {
   "cell_type": "code",
   "execution_count": null,
   "metadata": {},
   "outputs": [],
   "source": []
  },
  {
   "cell_type": "code",
   "execution_count": null,
   "metadata": {},
   "outputs": [],
   "source": []
  }
 ],
 "metadata": {
  "kernelspec": {
   "display_name": "Python 3",
   "language": "python",
   "name": "python3"
  },
  "language_info": {
   "codemirror_mode": {
    "name": "ipython",
    "version": 3
   },
   "file_extension": ".py",
   "mimetype": "text/x-python",
   "name": "python",
   "nbconvert_exporter": "python",
   "pygments_lexer": "ipython3",
   "version": "3.7.6"
  }
 },
 "nbformat": 4,
 "nbformat_minor": 4
}
